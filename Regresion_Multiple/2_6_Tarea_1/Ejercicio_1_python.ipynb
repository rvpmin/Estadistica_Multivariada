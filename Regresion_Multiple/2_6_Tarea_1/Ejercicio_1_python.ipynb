{
 "cells": [
  {
   "cell_type": "markdown",
   "id": "6d0e03eb",
   "metadata": {},
   "source": [
    "# Ejercicio 01 (Python)"
   ]
  },
  {
   "cell_type": "markdown",
   "id": "47628a14",
   "metadata": {},
   "source": [
    "## Datos y Librerías"
   ]
  },
  {
   "cell_type": "code",
   "execution_count": 1,
   "id": "2018d7d2",
   "metadata": {},
   "outputs": [],
   "source": [
    "import pandas as pd\n",
    "import numpy as np\n",
    "import matplotlib.pyplot as plt\n",
    "import seaborn as sns"
   ]
  },
  {
   "cell_type": "code",
   "execution_count": 3,
   "id": "62a9b773",
   "metadata": {},
   "outputs": [
    {
     "data": {
      "text/html": [
       "<div>\n",
       "<style scoped>\n",
       "    .dataframe tbody tr th:only-of-type {\n",
       "        vertical-align: middle;\n",
       "    }\n",
       "\n",
       "    .dataframe tbody tr th {\n",
       "        vertical-align: top;\n",
       "    }\n",
       "\n",
       "    .dataframe thead th {\n",
       "        text-align: right;\n",
       "    }\n",
       "</style>\n",
       "<table border=\"1\" class=\"dataframe\">\n",
       "  <thead>\n",
       "    <tr style=\"text-align: right;\">\n",
       "      <th></th>\n",
       "      <th>Equipo</th>\n",
       "      <th>y</th>\n",
       "      <th>x1</th>\n",
       "      <th>x2</th>\n",
       "      <th>x3</th>\n",
       "      <th>x4</th>\n",
       "      <th>x5</th>\n",
       "      <th>x6</th>\n",
       "      <th>x7</th>\n",
       "      <th>x8</th>\n",
       "      <th>x9</th>\n",
       "    </tr>\n",
       "  </thead>\n",
       "  <tbody>\n",
       "    <tr>\n",
       "      <th>0</th>\n",
       "      <td>Washington</td>\n",
       "      <td>10</td>\n",
       "      <td>2113</td>\n",
       "      <td>1985</td>\n",
       "      <td>38.9</td>\n",
       "      <td>64.7</td>\n",
       "      <td>4</td>\n",
       "      <td>868</td>\n",
       "      <td>59.7</td>\n",
       "      <td>2205</td>\n",
       "      <td>1917</td>\n",
       "    </tr>\n",
       "    <tr>\n",
       "      <th>1</th>\n",
       "      <td>Minnesota</td>\n",
       "      <td>11</td>\n",
       "      <td>2003</td>\n",
       "      <td>2855</td>\n",
       "      <td>38.8</td>\n",
       "      <td>61.3</td>\n",
       "      <td>3</td>\n",
       "      <td>615</td>\n",
       "      <td>55.0</td>\n",
       "      <td>2096</td>\n",
       "      <td>1575</td>\n",
       "    </tr>\n",
       "    <tr>\n",
       "      <th>2</th>\n",
       "      <td>New England</td>\n",
       "      <td>11</td>\n",
       "      <td>2957</td>\n",
       "      <td>1737</td>\n",
       "      <td>40.1</td>\n",
       "      <td>60.0</td>\n",
       "      <td>14</td>\n",
       "      <td>914</td>\n",
       "      <td>65.6</td>\n",
       "      <td>1847</td>\n",
       "      <td>2175</td>\n",
       "    </tr>\n",
       "    <tr>\n",
       "      <th>3</th>\n",
       "      <td>Oakland</td>\n",
       "      <td>13</td>\n",
       "      <td>2285</td>\n",
       "      <td>2905</td>\n",
       "      <td>41.6</td>\n",
       "      <td>45.3</td>\n",
       "      <td>-4</td>\n",
       "      <td>957</td>\n",
       "      <td>61.4</td>\n",
       "      <td>1903</td>\n",
       "      <td>2476</td>\n",
       "    </tr>\n",
       "    <tr>\n",
       "      <th>4</th>\n",
       "      <td>Pittsburgh</td>\n",
       "      <td>10</td>\n",
       "      <td>2971</td>\n",
       "      <td>1666</td>\n",
       "      <td>39.2</td>\n",
       "      <td>53.8</td>\n",
       "      <td>15</td>\n",
       "      <td>836</td>\n",
       "      <td>66.1</td>\n",
       "      <td>1457</td>\n",
       "      <td>1866</td>\n",
       "    </tr>\n",
       "  </tbody>\n",
       "</table>\n",
       "</div>"
      ],
      "text/plain": [
       "        Equipo   y    x1    x2    x3    x4  x5   x6    x7    x8    x9\n",
       "0   Washington  10  2113  1985  38.9  64.7   4  868  59.7  2205  1917\n",
       "1    Minnesota  11  2003  2855  38.8  61.3   3  615  55.0  2096  1575\n",
       "2  New England  11  2957  1737  40.1  60.0  14  914  65.6  1847  2175\n",
       "3      Oakland  13  2285  2905  41.6  45.3  -4  957  61.4  1903  2476\n",
       "4   Pittsburgh  10  2971  1666  39.2  53.8  15  836  66.1  1457  1866"
      ]
     },
     "execution_count": 3,
     "metadata": {},
     "output_type": "execute_result"
    }
   ],
   "source": [
    "df = pd.read_csv('Liga_nacional_de_futbol.csv')\n",
    "df.head()"
   ]
  },
  {
   "cell_type": "code",
   "execution_count": null,
   "id": "f8e98f57",
   "metadata": {},
   "outputs": [],
   "source": []
  }
 ],
 "metadata": {
  "kernelspec": {
   "display_name": "Python 3",
   "language": "python",
   "name": "python3"
  },
  "language_info": {
   "codemirror_mode": {
    "name": "ipython",
    "version": 3
   },
   "file_extension": ".py",
   "mimetype": "text/x-python",
   "name": "python",
   "nbconvert_exporter": "python",
   "pygments_lexer": "ipython3",
   "version": "3.12.2"
  }
 },
 "nbformat": 4,
 "nbformat_minor": 5
}
