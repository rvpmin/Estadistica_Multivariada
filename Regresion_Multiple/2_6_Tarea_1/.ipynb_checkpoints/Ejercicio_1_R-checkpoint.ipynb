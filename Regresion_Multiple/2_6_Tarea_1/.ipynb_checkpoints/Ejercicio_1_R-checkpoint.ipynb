{
 "cells": [
  {
   "cell_type": "markdown",
   "id": "498289bd-7c8d-432f-a394-a807fe1962b2",
   "metadata": {},
   "source": [
    "# Ejercicio 01 (R)"
   ]
  },
  {
   "cell_type": "markdown",
   "id": "adb685e4-805b-4148-9cbd-08e2f533eccc",
   "metadata": {
    "jp-MarkdownHeadingCollapsed": true
   },
   "source": [
    "## Datos"
   ]
  },
  {
   "cell_type": "code",
   "execution_count": 84,
   "id": "aeccd27b-9705-4950-b2ea-b5a4dfb22cfa",
   "metadata": {
    "ExecuteTime": {
     "end_time": "2025-09-01T18:02:50.118603Z",
     "start_time": "2025-09-01T18:02:50.094036Z"
    }
   },
   "outputs": [],
   "source": [
    "df = read.csv('Liga_nacional_de_futbol.csv')"
   ]
  },
  {
   "cell_type": "code",
   "execution_count": 85,
   "id": "9cc20af0cd10d749",
   "metadata": {
    "ExecuteTime": {
     "end_time": "2025-09-01T18:02:50.213574500Z",
     "start_time": "2025-08-28T16:35:01.936238Z"
    }
   },
   "outputs": [
    {
     "data": {
      "text/html": [
       "<table class=\"dataframe\">\n",
       "<caption>A data.frame: 28 × 11</caption>\n",
       "<thead>\n",
       "\t<tr><th scope=col>Equipo</th><th scope=col>y</th><th scope=col>x1</th><th scope=col>x2</th><th scope=col>x3</th><th scope=col>x4</th><th scope=col>x5</th><th scope=col>x6</th><th scope=col>x7</th><th scope=col>x8</th><th scope=col>x9</th></tr>\n",
       "\t<tr><th scope=col>&lt;chr&gt;</th><th scope=col>&lt;int&gt;</th><th scope=col>&lt;int&gt;</th><th scope=col>&lt;int&gt;</th><th scope=col>&lt;dbl&gt;</th><th scope=col>&lt;dbl&gt;</th><th scope=col>&lt;int&gt;</th><th scope=col>&lt;int&gt;</th><th scope=col>&lt;dbl&gt;</th><th scope=col>&lt;int&gt;</th><th scope=col>&lt;int&gt;</th></tr>\n",
       "</thead>\n",
       "<tbody>\n",
       "\t<tr><td>Washington       </td><td>10</td><td>2113</td><td>1985</td><td>38.9</td><td>64.7</td><td>  4</td><td> 868</td><td>59.7</td><td>2205</td><td>1917</td></tr>\n",
       "\t<tr><td>Minnesota        </td><td>11</td><td>2003</td><td>2855</td><td>38.8</td><td>61.3</td><td>  3</td><td> 615</td><td>55.0</td><td>2096</td><td>1575</td></tr>\n",
       "\t<tr><td>New England      </td><td>11</td><td>2957</td><td>1737</td><td>40.1</td><td>60.0</td><td> 14</td><td> 914</td><td>65.6</td><td>1847</td><td>2175</td></tr>\n",
       "\t<tr><td>Oakland          </td><td>13</td><td>2285</td><td>2905</td><td>41.6</td><td>45.3</td><td> -4</td><td> 957</td><td>61.4</td><td>1903</td><td>2476</td></tr>\n",
       "\t<tr><td>Pittsburgh       </td><td>10</td><td>2971</td><td>1666</td><td>39.2</td><td>53.8</td><td> 15</td><td> 836</td><td>66.1</td><td>1457</td><td>1866</td></tr>\n",
       "\t<tr><td>Baltimore        </td><td>11</td><td>2309</td><td>2927</td><td>39.7</td><td>74.1</td><td>  8</td><td> 786</td><td>61.0</td><td>1848</td><td>2339</td></tr>\n",
       "\t<tr><td>Los Ángeles      </td><td>10</td><td>2528</td><td>2341</td><td>38.1</td><td>65.4</td><td> 12</td><td> 754</td><td>66.1</td><td>1564</td><td>2092</td></tr>\n",
       "\t<tr><td>Dallas           </td><td>11</td><td>2147</td><td>2737</td><td>37.0</td><td>78.3</td><td> -1</td><td> 761</td><td>58.0</td><td>1821</td><td>1909</td></tr>\n",
       "\t<tr><td>Atlanta          </td><td> 4</td><td>1689</td><td>1414</td><td>42.1</td><td>47.6</td><td> -3</td><td> 714</td><td>57.0</td><td>2577</td><td>2001</td></tr>\n",
       "\t<tr><td>Buffalo          </td><td> 2</td><td>2566</td><td>1838</td><td>42.3</td><td>54.2</td><td> -1</td><td> 797</td><td>58.9</td><td>2476</td><td>2254</td></tr>\n",
       "\t<tr><td>Chicago          </td><td> 7</td><td>2363</td><td>1480</td><td>37.3</td><td>48.0</td><td> 19</td><td> 984</td><td>67.5</td><td>1984</td><td>2217</td></tr>\n",
       "\t<tr><td>Cincinnati       </td><td>10</td><td>2109</td><td>2191</td><td>39.5</td><td>51.9</td><td>  6</td><td> 700</td><td>57.2</td><td>1917</td><td>1758</td></tr>\n",
       "\t<tr><td>Cleveland        </td><td> 9</td><td>2295</td><td>2229</td><td>37.4</td><td>53.6</td><td> -5</td><td>1037</td><td>58.8</td><td>1761</td><td>2032</td></tr>\n",
       "\t<tr><td>Denver           </td><td> 9</td><td>1932</td><td>2204</td><td>35.1</td><td>71.4</td><td>  3</td><td> 986</td><td>58.6</td><td>1709</td><td>2025</td></tr>\n",
       "\t<tr><td>Detroit          </td><td> 6</td><td>2213</td><td>2140</td><td>38.8</td><td>58.3</td><td>  6</td><td> 819</td><td>59.2</td><td>1901</td><td>1686</td></tr>\n",
       "\t<tr><td>Green Bay        </td><td> 5</td><td>1722</td><td>1730</td><td>36.6</td><td>52.6</td><td>-19</td><td> 791</td><td>54.4</td><td>2288</td><td>1835</td></tr>\n",
       "\t<tr><td>Houston          </td><td> 5</td><td>1498</td><td>2072</td><td>35.3</td><td>59.3</td><td> -5</td><td> 776</td><td>49.6</td><td>2072</td><td>1914</td></tr>\n",
       "\t<tr><td>Kansas City      </td><td> 5</td><td>1873</td><td>2929</td><td>41.1</td><td>55.3</td><td> 10</td><td> 789</td><td>54.3</td><td>2861</td><td>2496</td></tr>\n",
       "\t<tr><td>Miami            </td><td> 6</td><td>2118</td><td>2268</td><td>38.2</td><td>69.6</td><td>  6</td><td> 582</td><td>58.7</td><td>2411</td><td>2670</td></tr>\n",
       "\t<tr><td>Nueva Orleans    </td><td> 4</td><td>1775</td><td>1983</td><td>39.3</td><td>78.3</td><td>  7</td><td> 901</td><td>51.7</td><td>2289</td><td>2202</td></tr>\n",
       "\t<tr><td>Nueva York Giants</td><td> 3</td><td>1904</td><td>1792</td><td>39.7</td><td>38.1</td><td> -9</td><td> 734</td><td>61.9</td><td>2203</td><td>1988</td></tr>\n",
       "\t<tr><td>Nueva York Jets  </td><td> 3</td><td>1929</td><td>1606</td><td>39.7</td><td>68.8</td><td>-21</td><td> 627</td><td>52.7</td><td>2592</td><td>2324</td></tr>\n",
       "\t<tr><td>Philadelphia     </td><td> 4</td><td>2080</td><td>1492</td><td>35.5</td><td>68.8</td><td> -8</td><td> 722</td><td>57.8</td><td>2053</td><td>2550</td></tr>\n",
       "\t<tr><td>St. Louis        </td><td>10</td><td>2301</td><td>2835</td><td>35.3</td><td>74.1</td><td>  2</td><td> 683</td><td>59.7</td><td>1979</td><td>2110</td></tr>\n",
       "\t<tr><td>San Diego        </td><td> 6</td><td>2040</td><td>2416</td><td>38.7</td><td>50.0</td><td>  0</td><td> 576</td><td>54.9</td><td>2048</td><td>2628</td></tr>\n",
       "\t<tr><td>San Francisco    </td><td> 8</td><td>2447</td><td>1638</td><td>39.9</td><td>57.1</td><td> -8</td><td> 848</td><td>65.3</td><td>1786</td><td>1776</td></tr>\n",
       "\t<tr><td>Seattle          </td><td> 2</td><td>1416</td><td>2649</td><td>37.4</td><td>56.3</td><td>-22</td><td> 684</td><td>43.8</td><td>2876</td><td>2524</td></tr>\n",
       "\t<tr><td>Tampa Bay        </td><td> 0</td><td>1503</td><td>1503</td><td>39.3</td><td>47.0</td><td> -9</td><td> 875</td><td>53.5</td><td>2560</td><td>2241</td></tr>\n",
       "</tbody>\n",
       "</table>\n"
      ],
      "text/latex": [
       "A data.frame: 28 × 11\n",
       "\\begin{tabular}{lllllllllll}\n",
       " Equipo & y & x1 & x2 & x3 & x4 & x5 & x6 & x7 & x8 & x9\\\\\n",
       " <chr> & <int> & <int> & <int> & <dbl> & <dbl> & <int> & <int> & <dbl> & <int> & <int>\\\\\n",
       "\\hline\n",
       "\t Washington        & 10 & 2113 & 1985 & 38.9 & 64.7 &   4 &  868 & 59.7 & 2205 & 1917\\\\\n",
       "\t Minnesota         & 11 & 2003 & 2855 & 38.8 & 61.3 &   3 &  615 & 55.0 & 2096 & 1575\\\\\n",
       "\t New England       & 11 & 2957 & 1737 & 40.1 & 60.0 &  14 &  914 & 65.6 & 1847 & 2175\\\\\n",
       "\t Oakland           & 13 & 2285 & 2905 & 41.6 & 45.3 &  -4 &  957 & 61.4 & 1903 & 2476\\\\\n",
       "\t Pittsburgh        & 10 & 2971 & 1666 & 39.2 & 53.8 &  15 &  836 & 66.1 & 1457 & 1866\\\\\n",
       "\t Baltimore         & 11 & 2309 & 2927 & 39.7 & 74.1 &   8 &  786 & 61.0 & 1848 & 2339\\\\\n",
       "\t Los Ángeles       & 10 & 2528 & 2341 & 38.1 & 65.4 &  12 &  754 & 66.1 & 1564 & 2092\\\\\n",
       "\t Dallas            & 11 & 2147 & 2737 & 37.0 & 78.3 &  -1 &  761 & 58.0 & 1821 & 1909\\\\\n",
       "\t Atlanta           &  4 & 1689 & 1414 & 42.1 & 47.6 &  -3 &  714 & 57.0 & 2577 & 2001\\\\\n",
       "\t Buffalo           &  2 & 2566 & 1838 & 42.3 & 54.2 &  -1 &  797 & 58.9 & 2476 & 2254\\\\\n",
       "\t Chicago           &  7 & 2363 & 1480 & 37.3 & 48.0 &  19 &  984 & 67.5 & 1984 & 2217\\\\\n",
       "\t Cincinnati        & 10 & 2109 & 2191 & 39.5 & 51.9 &   6 &  700 & 57.2 & 1917 & 1758\\\\\n",
       "\t Cleveland         &  9 & 2295 & 2229 & 37.4 & 53.6 &  -5 & 1037 & 58.8 & 1761 & 2032\\\\\n",
       "\t Denver            &  9 & 1932 & 2204 & 35.1 & 71.4 &   3 &  986 & 58.6 & 1709 & 2025\\\\\n",
       "\t Detroit           &  6 & 2213 & 2140 & 38.8 & 58.3 &   6 &  819 & 59.2 & 1901 & 1686\\\\\n",
       "\t Green Bay         &  5 & 1722 & 1730 & 36.6 & 52.6 & -19 &  791 & 54.4 & 2288 & 1835\\\\\n",
       "\t Houston           &  5 & 1498 & 2072 & 35.3 & 59.3 &  -5 &  776 & 49.6 & 2072 & 1914\\\\\n",
       "\t Kansas City       &  5 & 1873 & 2929 & 41.1 & 55.3 &  10 &  789 & 54.3 & 2861 & 2496\\\\\n",
       "\t Miami             &  6 & 2118 & 2268 & 38.2 & 69.6 &   6 &  582 & 58.7 & 2411 & 2670\\\\\n",
       "\t Nueva Orleans     &  4 & 1775 & 1983 & 39.3 & 78.3 &   7 &  901 & 51.7 & 2289 & 2202\\\\\n",
       "\t Nueva York Giants &  3 & 1904 & 1792 & 39.7 & 38.1 &  -9 &  734 & 61.9 & 2203 & 1988\\\\\n",
       "\t Nueva York Jets   &  3 & 1929 & 1606 & 39.7 & 68.8 & -21 &  627 & 52.7 & 2592 & 2324\\\\\n",
       "\t Philadelphia      &  4 & 2080 & 1492 & 35.5 & 68.8 &  -8 &  722 & 57.8 & 2053 & 2550\\\\\n",
       "\t St. Louis         & 10 & 2301 & 2835 & 35.3 & 74.1 &   2 &  683 & 59.7 & 1979 & 2110\\\\\n",
       "\t San Diego         &  6 & 2040 & 2416 & 38.7 & 50.0 &   0 &  576 & 54.9 & 2048 & 2628\\\\\n",
       "\t San Francisco     &  8 & 2447 & 1638 & 39.9 & 57.1 &  -8 &  848 & 65.3 & 1786 & 1776\\\\\n",
       "\t Seattle           &  2 & 1416 & 2649 & 37.4 & 56.3 & -22 &  684 & 43.8 & 2876 & 2524\\\\\n",
       "\t Tampa Bay         &  0 & 1503 & 1503 & 39.3 & 47.0 &  -9 &  875 & 53.5 & 2560 & 2241\\\\\n",
       "\\end{tabular}\n"
      ],
      "text/markdown": [
       "\n",
       "A data.frame: 28 × 11\n",
       "\n",
       "| Equipo &lt;chr&gt; | y &lt;int&gt; | x1 &lt;int&gt; | x2 &lt;int&gt; | x3 &lt;dbl&gt; | x4 &lt;dbl&gt; | x5 &lt;int&gt; | x6 &lt;int&gt; | x7 &lt;dbl&gt; | x8 &lt;int&gt; | x9 &lt;int&gt; |\n",
       "|---|---|---|---|---|---|---|---|---|---|---|\n",
       "| Washington        | 10 | 2113 | 1985 | 38.9 | 64.7 |   4 |  868 | 59.7 | 2205 | 1917 |\n",
       "| Minnesota         | 11 | 2003 | 2855 | 38.8 | 61.3 |   3 |  615 | 55.0 | 2096 | 1575 |\n",
       "| New England       | 11 | 2957 | 1737 | 40.1 | 60.0 |  14 |  914 | 65.6 | 1847 | 2175 |\n",
       "| Oakland           | 13 | 2285 | 2905 | 41.6 | 45.3 |  -4 |  957 | 61.4 | 1903 | 2476 |\n",
       "| Pittsburgh        | 10 | 2971 | 1666 | 39.2 | 53.8 |  15 |  836 | 66.1 | 1457 | 1866 |\n",
       "| Baltimore         | 11 | 2309 | 2927 | 39.7 | 74.1 |   8 |  786 | 61.0 | 1848 | 2339 |\n",
       "| Los Ángeles       | 10 | 2528 | 2341 | 38.1 | 65.4 |  12 |  754 | 66.1 | 1564 | 2092 |\n",
       "| Dallas            | 11 | 2147 | 2737 | 37.0 | 78.3 |  -1 |  761 | 58.0 | 1821 | 1909 |\n",
       "| Atlanta           |  4 | 1689 | 1414 | 42.1 | 47.6 |  -3 |  714 | 57.0 | 2577 | 2001 |\n",
       "| Buffalo           |  2 | 2566 | 1838 | 42.3 | 54.2 |  -1 |  797 | 58.9 | 2476 | 2254 |\n",
       "| Chicago           |  7 | 2363 | 1480 | 37.3 | 48.0 |  19 |  984 | 67.5 | 1984 | 2217 |\n",
       "| Cincinnati        | 10 | 2109 | 2191 | 39.5 | 51.9 |   6 |  700 | 57.2 | 1917 | 1758 |\n",
       "| Cleveland         |  9 | 2295 | 2229 | 37.4 | 53.6 |  -5 | 1037 | 58.8 | 1761 | 2032 |\n",
       "| Denver            |  9 | 1932 | 2204 | 35.1 | 71.4 |   3 |  986 | 58.6 | 1709 | 2025 |\n",
       "| Detroit           |  6 | 2213 | 2140 | 38.8 | 58.3 |   6 |  819 | 59.2 | 1901 | 1686 |\n",
       "| Green Bay         |  5 | 1722 | 1730 | 36.6 | 52.6 | -19 |  791 | 54.4 | 2288 | 1835 |\n",
       "| Houston           |  5 | 1498 | 2072 | 35.3 | 59.3 |  -5 |  776 | 49.6 | 2072 | 1914 |\n",
       "| Kansas City       |  5 | 1873 | 2929 | 41.1 | 55.3 |  10 |  789 | 54.3 | 2861 | 2496 |\n",
       "| Miami             |  6 | 2118 | 2268 | 38.2 | 69.6 |   6 |  582 | 58.7 | 2411 | 2670 |\n",
       "| Nueva Orleans     |  4 | 1775 | 1983 | 39.3 | 78.3 |   7 |  901 | 51.7 | 2289 | 2202 |\n",
       "| Nueva York Giants |  3 | 1904 | 1792 | 39.7 | 38.1 |  -9 |  734 | 61.9 | 2203 | 1988 |\n",
       "| Nueva York Jets   |  3 | 1929 | 1606 | 39.7 | 68.8 | -21 |  627 | 52.7 | 2592 | 2324 |\n",
       "| Philadelphia      |  4 | 2080 | 1492 | 35.5 | 68.8 |  -8 |  722 | 57.8 | 2053 | 2550 |\n",
       "| St. Louis         | 10 | 2301 | 2835 | 35.3 | 74.1 |   2 |  683 | 59.7 | 1979 | 2110 |\n",
       "| San Diego         |  6 | 2040 | 2416 | 38.7 | 50.0 |   0 |  576 | 54.9 | 2048 | 2628 |\n",
       "| San Francisco     |  8 | 2447 | 1638 | 39.9 | 57.1 |  -8 |  848 | 65.3 | 1786 | 1776 |\n",
       "| Seattle           |  2 | 1416 | 2649 | 37.4 | 56.3 | -22 |  684 | 43.8 | 2876 | 2524 |\n",
       "| Tampa Bay         |  0 | 1503 | 1503 | 39.3 | 47.0 |  -9 |  875 | 53.5 | 2560 | 2241 |\n",
       "\n"
      ],
      "text/plain": [
       "   Equipo            y  x1   x2   x3   x4   x5  x6   x7   x8   x9  \n",
       "1  Washington        10 2113 1985 38.9 64.7   4  868 59.7 2205 1917\n",
       "2  Minnesota         11 2003 2855 38.8 61.3   3  615 55.0 2096 1575\n",
       "3  New England       11 2957 1737 40.1 60.0  14  914 65.6 1847 2175\n",
       "4  Oakland           13 2285 2905 41.6 45.3  -4  957 61.4 1903 2476\n",
       "5  Pittsburgh        10 2971 1666 39.2 53.8  15  836 66.1 1457 1866\n",
       "6  Baltimore         11 2309 2927 39.7 74.1   8  786 61.0 1848 2339\n",
       "7  Los Ángeles       10 2528 2341 38.1 65.4  12  754 66.1 1564 2092\n",
       "8  Dallas            11 2147 2737 37.0 78.3  -1  761 58.0 1821 1909\n",
       "9  Atlanta            4 1689 1414 42.1 47.6  -3  714 57.0 2577 2001\n",
       "10 Buffalo            2 2566 1838 42.3 54.2  -1  797 58.9 2476 2254\n",
       "11 Chicago            7 2363 1480 37.3 48.0  19  984 67.5 1984 2217\n",
       "12 Cincinnati        10 2109 2191 39.5 51.9   6  700 57.2 1917 1758\n",
       "13 Cleveland          9 2295 2229 37.4 53.6  -5 1037 58.8 1761 2032\n",
       "14 Denver             9 1932 2204 35.1 71.4   3  986 58.6 1709 2025\n",
       "15 Detroit            6 2213 2140 38.8 58.3   6  819 59.2 1901 1686\n",
       "16 Green Bay          5 1722 1730 36.6 52.6 -19  791 54.4 2288 1835\n",
       "17 Houston            5 1498 2072 35.3 59.3  -5  776 49.6 2072 1914\n",
       "18 Kansas City        5 1873 2929 41.1 55.3  10  789 54.3 2861 2496\n",
       "19 Miami              6 2118 2268 38.2 69.6   6  582 58.7 2411 2670\n",
       "20 Nueva Orleans      4 1775 1983 39.3 78.3   7  901 51.7 2289 2202\n",
       "21 Nueva York Giants  3 1904 1792 39.7 38.1  -9  734 61.9 2203 1988\n",
       "22 Nueva York Jets    3 1929 1606 39.7 68.8 -21  627 52.7 2592 2324\n",
       "23 Philadelphia       4 2080 1492 35.5 68.8  -8  722 57.8 2053 2550\n",
       "24 St. Louis         10 2301 2835 35.3 74.1   2  683 59.7 1979 2110\n",
       "25 San Diego          6 2040 2416 38.7 50.0   0  576 54.9 2048 2628\n",
       "26 San Francisco      8 2447 1638 39.9 57.1  -8  848 65.3 1786 1776\n",
       "27 Seattle            2 1416 2649 37.4 56.3 -22  684 43.8 2876 2524\n",
       "28 Tampa Bay          0 1503 1503 39.3 47.0  -9  875 53.5 2560 2241"
      ]
     },
     "metadata": {},
     "output_type": "display_data"
    }
   ],
   "source": [
    "df"
   ]
  },
  {
   "cell_type": "markdown",
   "id": "b60893fc4ccbcdc5",
   "metadata": {
    "jp-MarkdownHeadingCollapsed": true
   },
   "source": [
    "## a)\n",
    "Ajustar un modelo de regresión lineal múltiple que relacione la cantidad de juegos ganados con las yardas por aire del equipo ($x_2$), el porcentaje de jugadas por tierra ($x_7$) y las yardas por tierra del contrario (x8)."
   ]
  },
  {
   "cell_type": "code",
   "execution_count": 86,
   "id": "eb217787-3b8d-45e4-a758-cdfa07edd964",
   "metadata": {},
   "outputs": [],
   "source": [
    "X = model.matrix(y ~ x2 + x7 + x8, data = df)\n",
    "y = df$y\n",
    "n = nrow(X)\n",
    "p = ncol(X)"
   ]
  },
  {
   "cell_type": "code",
   "execution_count": 110,
   "id": "45dc7453-44b4-44ca-9b63-594cbfc2b248",
   "metadata": {
    "scrolled": true
   },
   "outputs": [
    {
     "data": {
      "text/html": [
       "<table class=\"dataframe\">\n",
       "<caption>A matrix: 4 × 1 of type dbl</caption>\n",
       "<tbody>\n",
       "\t<tr><th scope=row>(Intercept)</th><td>-1.808372059</td></tr>\n",
       "\t<tr><th scope=row>x2</th><td> 0.003598070</td></tr>\n",
       "\t<tr><th scope=row>x7</th><td> 0.193960210</td></tr>\n",
       "\t<tr><th scope=row>x8</th><td>-0.004815494</td></tr>\n",
       "</tbody>\n",
       "</table>\n"
      ],
      "text/latex": [
       "A matrix: 4 × 1 of type dbl\n",
       "\\begin{tabular}{r|l}\n",
       "\t(Intercept) & -1.808372059\\\\\n",
       "\tx2 &  0.003598070\\\\\n",
       "\tx7 &  0.193960210\\\\\n",
       "\tx8 & -0.004815494\\\\\n",
       "\\end{tabular}\n"
      ],
      "text/markdown": [
       "\n",
       "A matrix: 4 × 1 of type dbl\n",
       "\n",
       "| (Intercept) | -1.808372059 |\n",
       "| x2 |  0.003598070 |\n",
       "| x7 |  0.193960210 |\n",
       "| x8 | -0.004815494 |\n",
       "\n"
      ],
      "text/plain": [
       "            [,1]        \n",
       "(Intercept) -1.808372059\n",
       "x2           0.003598070\n",
       "x7           0.193960210\n",
       "x8          -0.004815494"
      ]
     },
     "metadata": {},
     "output_type": "display_data"
    }
   ],
   "source": [
    "beta_hat = solve(t(X) %*% X) %*% t(X) %*% y\n",
    "beta_hat"
   ]
  },
  {
   "cell_type": "code",
   "execution_count": 88,
   "id": "8c5fd701-58aa-4da8-b53d-30c93f47ec19",
   "metadata": {},
   "outputs": [],
   "source": [
    "y_hat = X %*% beta_hat"
   ]
  },
  {
   "cell_type": "code",
   "execution_count": 101,
   "id": "d0ac548f-d821-45ad-bdc2-5d7a19f073e8",
   "metadata": {},
   "outputs": [],
   "source": [
    "SCT = as.numeric(t(y) %*% y - sum(y)**2 / n)\n",
    "SCE = as.numeric(t(beta_hat) %*% t(X) %*% y - sum(y)**2 / n)\n",
    "SSE = SCT - SCE\n",
    "varest = SSE / (n-p)\n",
    "cov_beta = varest * solve(t(X) %*% X)\n",
    "se_beta = sqrt(diag(cov_beta))"
   ]
  },
  {
   "cell_type": "markdown",
   "id": "cd40f08e-a385-4d91-a19c-b17ff8fcf4c7",
   "metadata": {},
   "source": [
    "---"
   ]
  },
  {
   "cell_type": "code",
   "execution_count": 102,
   "id": "f1bdb0e6a6dfd778",
   "metadata": {
    "ExecuteTime": {
     "end_time": "2025-09-01T18:04:05.471880Z",
     "start_time": "2025-09-01T18:04:05.409590Z"
    }
   },
   "outputs": [],
   "source": [
    "full_model = lm(formula=y ~ x2 + x7 + x8, data=df)"
   ]
  },
  {
   "cell_type": "code",
   "execution_count": 103,
   "id": "726a8ccb15e242e5",
   "metadata": {
    "ExecuteTime": {
     "end_time": "2025-08-28T16:38:16.895128Z",
     "start_time": "2025-08-28T16:38:16.853549Z"
    }
   },
   "outputs": [
    {
     "data": {
      "text/plain": [
       "\n",
       "Call:\n",
       "lm(formula = y ~ x2 + x7 + x8, data = df)\n",
       "\n",
       "Residuals:\n",
       "    Min      1Q  Median      3Q     Max \n",
       "-3.0370 -0.7129 -0.2043  1.1101  3.7049 \n",
       "\n",
       "Coefficients:\n",
       "             Estimate Std. Error t value Pr(>|t|)    \n",
       "(Intercept) -1.808372   7.900859  -0.229 0.820899    \n",
       "x2           0.003598   0.000695   5.177 2.66e-05 ***\n",
       "x7           0.193960   0.088233   2.198 0.037815 *  \n",
       "x8          -0.004816   0.001277  -3.771 0.000938 ***\n",
       "---\n",
       "Signif. codes:  0 '***' 0.001 '**' 0.01 '*' 0.05 '.' 0.1 ' ' 1\n",
       "\n",
       "Residual standard error: 1.706 on 24 degrees of freedom\n",
       "Multiple R-squared:  0.7863,\tAdjusted R-squared:  0.7596 \n",
       "F-statistic: 29.44 on 3 and 24 DF,  p-value: 3.273e-08\n"
      ]
     },
     "metadata": {},
     "output_type": "display_data"
    }
   ],
   "source": [
    "summary(full_model)"
   ]
  },
  {
   "cell_type": "markdown",
   "id": "e2048515-f760-4d0e-aa31-b789b4cba23c",
   "metadata": {
    "jp-MarkdownHeadingCollapsed": true
   },
   "source": [
    "## b) \n",
    "Formar la tabla de análisis de varianza y probar la significancia de la regresión."
   ]
  },
  {
   "cell_type": "code",
   "execution_count": 104,
   "id": "76fc493c-ca66-430f-b765-081913210f3f",
   "metadata": {},
   "outputs": [],
   "source": [
    "GLT = n - 1\n",
    "GLRes = n - p\n",
    "GLR = p - 1\n",
    "CMR = SCE/GLR\n",
    "CMRes = SSE/GLRes\n",
    "F_stat = CMR/CMRes\n",
    "p_value_F <- pf(F_stat, GLR, GLRes, lower.tail = FALSE)"
   ]
  },
  {
   "cell_type": "code",
   "execution_count": 105,
   "id": "42979008-fb74-4283-a290-1059655a80e8",
   "metadata": {},
   "outputs": [
    {
     "data": {
      "text/html": [
       "29.4368703185818"
      ],
      "text/latex": [
       "29.4368703185818"
      ],
      "text/markdown": [
       "29.4368703185818"
      ],
      "text/plain": [
       "[1] 29.43687"
      ]
     },
     "metadata": {},
     "output_type": "display_data"
    }
   ],
   "source": [
    "F_stat"
   ]
  },
  {
   "cell_type": "code",
   "execution_count": 106,
   "id": "84a0ce59-806f-43a3-90e6-5f924a8151a3",
   "metadata": {},
   "outputs": [
    {
     "data": {
      "text/html": [
       "3.27345828701395e-08"
      ],
      "text/latex": [
       "3.27345828701395e-08"
      ],
      "text/markdown": [
       "3.27345828701395e-08"
      ],
      "text/plain": [
       "[1] 3.273458e-08"
      ]
     },
     "metadata": {},
     "output_type": "display_data"
    }
   ],
   "source": [
    "p_value_F"
   ]
  },
  {
   "cell_type": "code",
   "execution_count": 107,
   "id": "e2d08f97-0219-4d70-9444-f44b54dabf5b",
   "metadata": {
    "scrolled": true
   },
   "outputs": [
    {
     "name": "stdout",
     "output_type": "stream",
     "text": [
      "[1] \"ANOVA (manual)\"\n",
      "      Source Df    SumSq   MeanSq        F       Pr..F.\n",
      "1 Regression  3 257.0943 85.69809 29.43687 3.273458e-08\n",
      "2   Residual 24  69.8700  2.91125       NA           NA\n",
      "3      Total 27 326.9643       NA       NA           NA\n"
     ]
    }
   ],
   "source": [
    "anova_manual <- data.frame(\n",
    "  Source = c(\"Regression\", \"Residual\", \"Total\"),\n",
    "  Df = c(GLR, GLRes, GLR + GLRes),\n",
    "  SumSq = c(SCE, SSE, SCT),\n",
    "  MeanSq = c(CMR, CMRes, NA),\n",
    "  F = c(F_stat, NA, NA),\n",
    "  \"Pr(>F)\" = c(p_value_F, NA, NA)\n",
    ")\n",
    "print(\"ANOVA (manual)\")\n",
    "print(anova_manual)"
   ]
  },
  {
   "cell_type": "markdown",
   "id": "ddfb86b0-505a-4d3b-8fb6-1fc39181a6c9",
   "metadata": {},
   "source": [
    "---"
   ]
  },
  {
   "cell_type": "code",
   "execution_count": 108,
   "id": "bfb4241c7b3465f9",
   "metadata": {},
   "outputs": [
    {
     "data": {
      "text/html": [
       "<table class=\"dataframe\">\n",
       "<caption>A anova: 4 × 5</caption>\n",
       "<thead>\n",
       "\t<tr><th></th><th scope=col>Df</th><th scope=col>Sum Sq</th><th scope=col>Mean Sq</th><th scope=col>F value</th><th scope=col>Pr(&gt;F)</th></tr>\n",
       "\t<tr><th></th><th scope=col>&lt;int&gt;</th><th scope=col>&lt;dbl&gt;</th><th scope=col>&lt;dbl&gt;</th><th scope=col>&lt;dbl&gt;</th><th scope=col>&lt;dbl&gt;</th></tr>\n",
       "</thead>\n",
       "<tbody>\n",
       "\t<tr><th scope=row>x2</th><td> 1</td><td> 76.19340</td><td> 76.19340</td><td>26.17205</td><td>3.100132e-05</td></tr>\n",
       "\t<tr><th scope=row>x7</th><td> 1</td><td>139.50082</td><td>139.50082</td><td>47.91784</td><td>3.697874e-07</td></tr>\n",
       "\t<tr><th scope=row>x8</th><td> 1</td><td> 41.40006</td><td> 41.40006</td><td>14.22072</td><td>9.377699e-04</td></tr>\n",
       "\t<tr><th scope=row>Residuals</th><td>24</td><td> 69.87000</td><td>  2.91125</td><td>      NA</td><td>          NA</td></tr>\n",
       "</tbody>\n",
       "</table>\n"
      ],
      "text/latex": [
       "A anova: 4 × 5\n",
       "\\begin{tabular}{r|lllll}\n",
       "  & Df & Sum Sq & Mean Sq & F value & Pr(>F)\\\\\n",
       "  & <int> & <dbl> & <dbl> & <dbl> & <dbl>\\\\\n",
       "\\hline\n",
       "\tx2 &  1 &  76.19340 &  76.19340 & 26.17205 & 3.100132e-05\\\\\n",
       "\tx7 &  1 & 139.50082 & 139.50082 & 47.91784 & 3.697874e-07\\\\\n",
       "\tx8 &  1 &  41.40006 &  41.40006 & 14.22072 & 9.377699e-04\\\\\n",
       "\tResiduals & 24 &  69.87000 &   2.91125 &       NA &           NA\\\\\n",
       "\\end{tabular}\n"
      ],
      "text/markdown": [
       "\n",
       "A anova: 4 × 5\n",
       "\n",
       "| <!--/--> | Df &lt;int&gt; | Sum Sq &lt;dbl&gt; | Mean Sq &lt;dbl&gt; | F value &lt;dbl&gt; | Pr(&gt;F) &lt;dbl&gt; |\n",
       "|---|---|---|---|---|---|\n",
       "| x2 |  1 |  76.19340 |  76.19340 | 26.17205 | 3.100132e-05 |\n",
       "| x7 |  1 | 139.50082 | 139.50082 | 47.91784 | 3.697874e-07 |\n",
       "| x8 |  1 |  41.40006 |  41.40006 | 14.22072 | 9.377699e-04 |\n",
       "| Residuals | 24 |  69.87000 |   2.91125 |       NA |           NA |\n",
       "\n"
      ],
      "text/plain": [
       "          Df Sum Sq    Mean Sq   F value  Pr(>F)      \n",
       "x2         1  76.19340  76.19340 26.17205 3.100132e-05\n",
       "x7         1 139.50082 139.50082 47.91784 3.697874e-07\n",
       "x8         1  41.40006  41.40006 14.22072 9.377699e-04\n",
       "Residuals 24  69.87000   2.91125       NA           NA"
      ]
     },
     "metadata": {},
     "output_type": "display_data"
    }
   ],
   "source": [
    "anov = anova(full_model)\n",
    "anov"
   ]
  },
  {
   "cell_type": "markdown",
   "id": "a4a13435-7b89-4a89-8b8f-4839d8f949d2",
   "metadata": {},
   "source": [
    "Las tres variables regresoras son significativas para el modelo, aunque x8 un poco menos que las demás."
   ]
  },
  {
   "cell_type": "markdown",
   "id": "3f242620-a802-4be2-a40b-b7fe197566c6",
   "metadata": {
    "jp-MarkdownHeadingCollapsed": true
   },
   "source": [
    "## c)\n",
    "Calcular el estadístico $t$ para probar las hipótesis"
   ]
  },
  {
   "cell_type": "code",
   "execution_count": 109,
   "id": "2d219c20-9526-4120-a5e0-9cb5ed1b64f1",
   "metadata": {},
   "outputs": [
    {
     "data": {
      "text/html": [
       "<table class=\"dataframe\">\n",
       "<caption>A matrix: 4 × 1 of type dbl</caption>\n",
       "<tbody>\n",
       "\t<tr><th scope=row>(Intercept)</th><td>-0.228883</td></tr>\n",
       "\t<tr><th scope=row>x2</th><td> 5.177090</td></tr>\n",
       "\t<tr><th scope=row>x7</th><td> 2.198262</td></tr>\n",
       "\t<tr><th scope=row>x8</th><td>-3.771036</td></tr>\n",
       "</tbody>\n",
       "</table>\n"
      ],
      "text/latex": [
       "A matrix: 4 × 1 of type dbl\n",
       "\\begin{tabular}{r|l}\n",
       "\t(Intercept) & -0.228883\\\\\n",
       "\tx2 &  5.177090\\\\\n",
       "\tx7 &  2.198262\\\\\n",
       "\tx8 & -3.771036\\\\\n",
       "\\end{tabular}\n"
      ],
      "text/markdown": [
       "\n",
       "A matrix: 4 × 1 of type dbl\n",
       "\n",
       "| (Intercept) | -0.228883 |\n",
       "| x2 |  5.177090 |\n",
       "| x7 |  2.198262 |\n",
       "| x8 | -3.771036 |\n",
       "\n"
      ],
      "text/plain": [
       "            [,1]     \n",
       "(Intercept) -0.228883\n",
       "x2           5.177090\n",
       "x7           2.198262\n",
       "x8          -3.771036"
      ]
     },
     "metadata": {},
     "output_type": "display_data"
    }
   ],
   "source": [
    "t_est = beta_hat / se_beta\n",
    "t_est"
   ]
  },
  {
   "cell_type": "code",
   "execution_count": 98,
   "id": "808fdd24-786c-4bd4-8cde-bc24f0b5793e",
   "metadata": {},
   "outputs": [
    {
     "data": {
      "text/html": [],
      "text/latex": [],
      "text/markdown": [],
      "text/plain": [
       "<0 x 0 matrix>"
      ]
     },
     "metadata": {},
     "output_type": "display_data"
    }
   ],
   "source": [
    "t_est"
   ]
  },
  {
   "cell_type": "markdown",
   "id": "57575fc1-5aa0-4ff1-81e4-df7cf895cdaa",
   "metadata": {},
   "source": [
    "t crítico:"
   ]
  },
  {
   "cell_type": "code",
   "execution_count": 124,
   "id": "64b97ff7-f753-46ae-a5a3-2766886387a1",
   "metadata": {},
   "outputs": [
    {
     "data": {
      "text/html": [
       "2.06389856162803"
      ],
      "text/latex": [
       "2.06389856162803"
      ],
      "text/markdown": [
       "2.06389856162803"
      ],
      "text/plain": [
       "[1] 2.063899"
      ]
     },
     "metadata": {},
     "output_type": "display_data"
    }
   ],
   "source": [
    "tt = qt(p = 0.95 + 0.05/2, df = n-p, lower.tail = TRUE)\n",
    "tt"
   ]
  },
  {
   "cell_type": "markdown",
   "id": "48132584-1b0f-4ff4-988f-f94a9c099a95",
   "metadata": {},
   "source": [
    "#### $H_0: \\beta_2 = 0$"
   ]
  },
  {
   "cell_type": "code",
   "execution_count": 52,
   "id": "af72e7db-e430-4448-9de7-af6c21b80ea0",
   "metadata": {},
   "outputs": [
    {
     "data": {
      "text/html": [
       "5.17709023998609"
      ],
      "text/latex": [
       "5.17709023998609"
      ],
      "text/markdown": [
       "5.17709023998609"
      ],
      "text/plain": [
       "[1] 5.17709"
      ]
     },
     "metadata": {},
     "output_type": "display_data"
    }
   ],
   "source": [
    "t_est[2]"
   ]
  },
  {
   "cell_type": "markdown",
   "id": "3d43801a-0cf9-4c3f-97e8-b74f72876c4f",
   "metadata": {},
   "source": [
    "El valor absoluto del estadístico t observado ($5.17709$) es mayor que el t tabuldado ($2.06389$), por lo que se rechaza la hipótesis nula $H_0: \\beta_2 = 0$, es decir, la variable $x_2$ es significativa."
   ]
  },
  {
   "cell_type": "markdown",
   "id": "6d61f27e-e5fb-4728-b21f-50be116b13d1",
   "metadata": {},
   "source": [
    "#### $H_0: \\beta_7 = 0$"
   ]
  },
  {
   "cell_type": "code",
   "execution_count": 53,
   "id": "b7e9dba9-dcf0-403c-a56c-8d1669f36acf",
   "metadata": {},
   "outputs": [
    {
     "data": {
      "text/html": [
       "2.198261682782"
      ],
      "text/latex": [
       "2.198261682782"
      ],
      "text/markdown": [
       "2.198261682782"
      ],
      "text/plain": [
       "[1] 2.198262"
      ]
     },
     "metadata": {},
     "output_type": "display_data"
    }
   ],
   "source": [
    "t_est[3]"
   ]
  },
  {
   "cell_type": "markdown",
   "id": "1663088f-63b1-42ca-8850-127cc9f691de",
   "metadata": {},
   "source": [
    "El valor absoluto del estadístico t observado ($2.19826$) es mayor que el t tabuldado ($2.06389$), por lo que se rechaza la hipótesis nula $H_0: \\beta_7 = 0$, es decir, la variable $x_7$ es significativa."
   ]
  },
  {
   "cell_type": "markdown",
   "id": "e5e2040b-824b-40fc-ada5-368a5fdd1043",
   "metadata": {},
   "source": [
    "#### $H_0: \\beta_8 = 0$"
   ]
  },
  {
   "cell_type": "code",
   "execution_count": 54,
   "id": "f4de1de9-3c21-4e62-84cf-bcf5b644d31f",
   "metadata": {},
   "outputs": [
    {
     "data": {
      "text/html": [
       "-3.77103645172663"
      ],
      "text/latex": [
       "-3.77103645172663"
      ],
      "text/markdown": [
       "-3.77103645172663"
      ],
      "text/plain": [
       "[1] -3.771036"
      ]
     },
     "metadata": {},
     "output_type": "display_data"
    }
   ],
   "source": [
    "t_est[4]"
   ]
  },
  {
   "cell_type": "markdown",
   "id": "2cc91bc6-8454-4150-9af0-e961a4e17a3c",
   "metadata": {},
   "source": [
    "El valor absoluto del estadístico t observado ($3.77103$) es mayor que el t tabuldado ($2.06389$), por lo que se rechaza la hipótesis nula $H_0: \\beta_8 = 0$, es decir, la variable $x_8$ es significativa."
   ]
  },
  {
   "cell_type": "markdown",
   "id": "fd7d735b-d0ad-4e3b-8728-1301d3545b96",
   "metadata": {},
   "source": [
    "Las 3 variables regresoras son significativas en el modelo"
   ]
  },
  {
   "cell_type": "markdown",
   "id": "7aa33cca-da92-44d3-ae74-6c144318b00e",
   "metadata": {
    "jp-MarkdownHeadingCollapsed": true
   },
   "source": [
    "## d)\n",
    "Calcular $R^2$ y $R^2_{adj} $ para este modelo"
   ]
  },
  {
   "cell_type": "code",
   "execution_count": 119,
   "id": "4426b7f0-d121-41ed-844e-bbecc378660c",
   "metadata": {},
   "outputs": [
    {
     "data": {
      "text/html": [
       "0.786306923310595"
      ],
      "text/latex": [
       "0.786306923310595"
      ],
      "text/markdown": [
       "0.786306923310595"
      ],
      "text/plain": [
       "[1] 0.7863069"
      ]
     },
     "metadata": {},
     "output_type": "display_data"
    }
   ],
   "source": [
    "R2 = SCE / SCT\n",
    "R2"
   ]
  },
  {
   "cell_type": "code",
   "execution_count": 120,
   "id": "113aebd5-6b3a-4ee4-bad8-a064d47ff85c",
   "metadata": {},
   "outputs": [
    {
     "data": {
      "text/html": [
       "0.786306923310954"
      ],
      "text/latex": [
       "0.786306923310954"
      ],
      "text/markdown": [
       "0.786306923310954"
      ],
      "text/plain": [
       "[1] 0.7863069"
      ]
     },
     "metadata": {},
     "output_type": "display_data"
    }
   ],
   "source": [
    "summary(full_model)$r.squared"
   ]
  },
  {
   "cell_type": "code",
   "execution_count": 121,
   "id": "eb672e43-95cb-45fc-a301-c2fbd6f50e3c",
   "metadata": {},
   "outputs": [
    {
     "data": {
      "text/html": [
       "0.75959528872442"
      ],
      "text/latex": [
       "0.75959528872442"
      ],
      "text/markdown": [
       "0.75959528872442"
      ],
      "text/plain": [
       "[1] 0.7595953"
      ]
     },
     "metadata": {},
     "output_type": "display_data"
    }
   ],
   "source": [
    "R2_adj = 1 - ((SSE / (n - p)) / (SCT / (n - 1)))\n",
    "R2_adj"
   ]
  },
  {
   "cell_type": "code",
   "execution_count": 122,
   "id": "ae8c28e5-838e-4aff-88fc-5ff124632216",
   "metadata": {},
   "outputs": [
    {
     "data": {
      "text/html": [
       "0.759595288724823"
      ],
      "text/latex": [
       "0.759595288724823"
      ],
      "text/markdown": [
       "0.759595288724823"
      ],
      "text/plain": [
       "[1] 0.7595953"
      ]
     },
     "metadata": {},
     "output_type": "display_data"
    }
   ],
   "source": [
    "summary(full_model)$adj.r.squared"
   ]
  },
  {
   "cell_type": "markdown",
   "id": "7fe8ff91-5103-4411-a09d-3c3b40cf1e56",
   "metadata": {},
   "source": [
    "Estos valores indican que las 3 variables regresoras son relevantes y proporcionan un modelo bastante bueno, y la diferencia pequeña entre $R^2$ y $R^2_{adj}$ indica que no se está sobreajustando el modelo con predictores inútiles."
   ]
  },
  {
   "cell_type": "markdown",
   "id": "f639e930-ce34-4574-bb78-173181da0266",
   "metadata": {},
   "source": [
    "## e)\n",
    "Trazar una gráfica de probabilidad normal de los residuales. ¿Parece haber algún problema con la hipótesis de normalidad?"
   ]
  },
  {
   "cell_type": "code",
   "execution_count": 64,
   "id": "7b5c289a-548d-408e-88e3-aed1cc2fb9cd",
   "metadata": {},
   "outputs": [
    {
     "data": {
      "image/png": "[encoded data removed]",
      "text/plain": [
       "Plot with title \"Normal Q-Q Plot\""
      ]
     },
     "metadata": {
      "image/png": {
       "height": 420,
       "width": 420
      }
     },
     "output_type": "display_data"
    }
   ],
   "source": [
    "residuales = resid(full_model)\n",
    "qqnorm(residuales)\n",
    "qqline(residuales)"
   ]
  },
  {
   "cell_type": "markdown",
   "id": "37bedd91-79e2-407a-ba92-0493d0442d21",
   "metadata": {
    "jp-MarkdownHeadingCollapsed": true
   },
   "source": [
    "## f)\n",
    "Trazar e interpretar una gráfica de los residuales en función de la respuesta predicha."
   ]
  },
  {
   "cell_type": "code",
   "execution_count": 69,
   "id": "61148729-ebe4-47ac-9b80-86ff87c7191d",
   "metadata": {},
   "outputs": [
    {
     "data": {
      "image/png": "[encoded data removed]",
      "text/plain": [
       "Plot with title \"Modelo de Regresión\""
      ]
     },
     "metadata": {
      "image/png": {
       "height": 420,
       "width": 420
      }
     },
     "output_type": "display_data"
    }
   ],
   "source": [
    "plot(fitted(full_model), residuales,\n",
    "    xlab = \"Valores Estimados\",\n",
    "     ylab = \"Residuales\",\n",
    "     main = \"Modelo de Regresión\",\n",
    "     pch = 19, col = \"#4bb37b\", cex = 1.2)"
   ]
  },
  {
   "cell_type": "markdown",
   "id": "974c83e5-174e-4d40-91fb-a6b120d5e70c",
   "metadata": {
    "jp-MarkdownHeadingCollapsed": true
   },
   "source": [
    "## g)\n",
    "Trazar las gráficas de los residuales en función de cada una de las variables regresoras. ¿Implican esas gráficas que se especificó en forma correcta el regresor?"
   ]
  },
  {
   "cell_type": "code",
   "execution_count": 75,
   "id": "04fa8e00-1cdb-472d-8f6c-db7bfec7932e",
   "metadata": {},
   "outputs": [
    {
     "data": {
      "image/png": "[encoded data removed]",
      "text/plain": [
       "plot without title"
      ]
     },
     "metadata": {
      "image/png": {
       "height": 420,
       "width": 420
      }
     },
     "output_type": "display_data"
    },
    {
     "data": {
      "image/png": "[encoded data removed]",
      "text/plain": [
       "plot without title"
      ]
     },
     "metadata": {
      "image/png": {
       "height": 420,
       "width": 420
      }
     },
     "output_type": "display_data"
    },
    {
     "data": {
      "image/png": "[encoded data removed]",
      "text/plain": [
       "plot without title"
      ]
     },
     "metadata": {
      "image/png": {
       "height": 420,
       "width": 420
      }
     },
     "output_type": "display_data"
    }
   ],
   "source": [
    "plot(df$x2, residuales, xlab=\"x2: Yardas por aire\", ylab=\"Residuales\")\n",
    "abline(h=0, col=\"red\")\n",
    "\n",
    "plot(df$x7, residuales, xlab=\"x7: Porcentaje de carreras\", ylab=\"Residuales\")\n",
    "abline(h=0, col=\"red\")\n",
    "\n",
    "plot(df$x8, residuales, xlab=\"x8: Yardas por tierra del contrario\", ylab=\"Residuales\")\n",
    "abline(h=0, col=\"red\")"
   ]
  },
  {
   "cell_type": "markdown",
   "id": "1ad6d252-56bd-468b-aad2-688795a8d014",
   "metadata": {
    "jp-MarkdownHeadingCollapsed": true
   },
   "source": [
    "## h)\n",
    "Calcular un intervalo de confianza de $95%$ para $\\beta_7$. También, un intervalo de confianza de $95%$ para la cantidad media de juegos ganados por un equipo cuando $x_2=2300, x_7=56$ y $x_8=2100$"
   ]
  },
  {
   "cell_type": "code",
   "execution_count": 125,
   "id": "d9646ba9-7174-4503-89f3-026e728be4fd",
   "metadata": {},
   "outputs": [],
   "source": [
    "beta7_hat = beta_hat[3, 1]\n",
    "se_beta7 = se_beta[3]\n",
    "ic_beta7_izq = beta7_hat - tt * se_beta7\n",
    "ic_beta7_der = beta7_hat + tt * se_beta7"
   ]
  },
  {
   "cell_type": "code",
   "execution_count": 128,
   "id": "4f0392ea-a2f4-493e-97a1-99dee47bef09",
   "metadata": {},
   "outputs": [
    {
     "name": "stdout",
     "output_type": "stream",
     "text": [
      "Intervalo de confianza 95% para β₇:\n",
      "Límite inferior: 0.0119 \n",
      "Estimación: 0.194 \n",
      "Límite superior: 0.3761 \n",
      "Longitud: 0.3642 \n"
     ]
    }
   ],
   "source": [
    "cat(\"Intervalo de confianza 95% para β₇:\\n\")\n",
    "cat(\"Límite inferior:\", round(ic_beta7_izq, 4), \"\\n\")\n",
    "cat(\"Estimación:\", round(beta7_hat, 4), \"\\n\")\n",
    "cat(\"Límite superior:\", round(ic_beta7_der, 4), \"\\n\")\n",
    "cat(\"Longitud:\", round(ic_beta7_der-ic_beta7_izq, 4), \"\\n\")"
   ]
  },
  {
   "cell_type": "code",
   "execution_count": 102,
   "id": "9e8906b6-d6bc-486f-ab6d-abd58949e97a",
   "metadata": {},
   "outputs": [
    {
     "data": {
      "text/html": [
       "<style>\n",
       ".dl-inline {width: auto; margin:0; padding: 0}\n",
       ".dl-inline>dt, .dl-inline>dd {float: none; width: auto; display: inline-block}\n",
       ".dl-inline>dt::after {content: \":\\0020\"; padding-right: .5ex}\n",
       ".dl-inline>dt:not(:first-of-type) {padding-left: .5ex}\n",
       "</style><dl class=dl-inline><dt>2.5 %</dt><dd>0.0118553215676871</dd><dt>97.5 %</dt><dd>0.376065097598759</dd></dl>\n"
      ],
      "text/latex": [
       "\\begin{description*}\n",
       "\\item[2.5 \\textbackslash{}\\%] 0.0118553215676871\n",
       "\\item[97.5 \\textbackslash{}\\%] 0.376065097598759\n",
       "\\end{description*}\n"
      ],
      "text/markdown": [
       "2.5 %\n",
       ":   0.011855321567687197.5 %\n",
       ":   0.376065097598759\n",
       "\n"
      ],
      "text/plain": [
       "     2.5 %     97.5 % \n",
       "0.01185532 0.37606510 "
      ]
     },
     "metadata": {},
     "output_type": "display_data"
    }
   ],
   "source": [
    "confint(full_model, level = 0.95)[\"x7\", ]"
   ]
  },
  {
   "cell_type": "code",
   "execution_count": 130,
   "id": "1d5ea19b-2c1b-4457-8448-97e2e019ffa3",
   "metadata": {
    "scrolled": true
   },
   "outputs": [
    {
     "data": {
      "text/html": [
       "<table class=\"dataframe\">\n",
       "<caption>A matrix: 4 × 1 of type dbl</caption>\n",
       "<tbody>\n",
       "\t<tr><td>   1</td></tr>\n",
       "\t<tr><td>2300</td></tr>\n",
       "\t<tr><td>  56</td></tr>\n",
       "\t<tr><td>2100</td></tr>\n",
       "</tbody>\n",
       "</table>\n"
      ],
      "text/latex": [
       "A matrix: 4 × 1 of type dbl\n",
       "\\begin{tabular}{l}\n",
       "\t    1\\\\\n",
       "\t 2300\\\\\n",
       "\t   56\\\\\n",
       "\t 2100\\\\\n",
       "\\end{tabular}\n"
      ],
      "text/markdown": [
       "\n",
       "A matrix: 4 × 1 of type dbl\n",
       "\n",
       "|    1 |\n",
       "| 2300 |\n",
       "|   56 |\n",
       "| 2100 |\n",
       "\n"
      ],
      "text/plain": [
       "     [,1]\n",
       "[1,]    1\n",
       "[2,] 2300\n",
       "[3,]   56\n",
       "[4,] 2100"
      ]
     },
     "metadata": {},
     "output_type": "display_data"
    }
   ],
   "source": [
    "X0 <- matrix(c(1, 2300, 56, 2100), nrow=4)\n",
    "X0"
   ]
  },
  {
   "cell_type": "code",
   "execution_count": 131,
   "id": "c11986a7-b64f-4cdf-9874-3231f35d2371",
   "metadata": {},
   "outputs": [
    {
     "data": {
      "text/html": [
       "<table class=\"dataframe\">\n",
       "<caption>A matrix: 1 × 1 of type dbl</caption>\n",
       "<tbody>\n",
       "\t<tr><td>7.216424</td></tr>\n",
       "</tbody>\n",
       "</table>\n"
      ],
      "text/latex": [
       "A matrix: 1 × 1 of type dbl\n",
       "\\begin{tabular}{l}\n",
       "\t 7.216424\\\\\n",
       "\\end{tabular}\n"
      ],
      "text/markdown": [
       "\n",
       "A matrix: 1 × 1 of type dbl\n",
       "\n",
       "| 7.216424 |\n",
       "\n"
      ],
      "text/plain": [
       "     [,1]    \n",
       "[1,] 7.216424"
      ]
     },
     "metadata": {},
     "output_type": "display_data"
    }
   ],
   "source": [
    "y0 = t(X0) %*% beta_hat\n",
    "y0"
   ]
  },
  {
   "cell_type": "code",
   "execution_count": 132,
   "id": "d09c0d8b-b515-4bab-a257-86d4e8b9b526",
   "metadata": {},
   "outputs": [],
   "source": [
    "var_y0 = varest * t(X0) %*% solve(t(X) %*% X) %*% X0\n",
    "se_y0 = sqrt(var_y0)"
   ]
  },
  {
   "cell_type": "code",
   "execution_count": 136,
   "id": "b42312a5-cca3-4021-b17f-edf077271630",
   "metadata": {},
   "outputs": [],
   "source": [
    "ic_y0_izq <- y0 - tt * se_y0\n",
    "ic_y0_der <- y0 + tt * se_y0"
   ]
  },
  {
   "cell_type": "code",
   "execution_count": 138,
   "id": "721247be-4e26-487b-ab95-74407219ba53",
   "metadata": {},
   "outputs": [
    {
     "name": "stdout",
     "output_type": "stream",
     "text": [
      "\n",
      "Intervalo de confianza 95% para la respuesta media:\n",
      "Límite inferior: 6.4362 \n",
      "Predicción: 7.2164 \n",
      "Límite superior: 7.9966 \n",
      "Longitud: 1.5604 \n"
     ]
    }
   ],
   "source": [
    "cat(\"\\nIntervalo de confianza 95% para la respuesta media:\\n\")\n",
    "cat(\"Límite inferior:\", round(ic_y0_izq, 4), \"\\n\")\n",
    "cat(\"Predicción:\", round(y0, 4), \"\\n\")\n",
    "cat(\"Límite superior:\", round(ic_y0_der, 4), \"\\n\")\n",
    "cat(\"Longitud:\", round(ic_y0_der-ic_y0_izq, 4), \"\\n\")"
   ]
  },
  {
   "cell_type": "markdown",
   "id": "e259da4e-591d-4b1f-b371-6add415b888b",
   "metadata": {
    "jp-MarkdownHeadingCollapsed": true
   },
   "source": [
    "## i)\n",
    "Ajustar un modelo a esos datos, usando solo $x_7$ y $x_8$ como regresores y probar la significancia de la regresión."
   ]
  },
  {
   "cell_type": "code",
   "execution_count": 147,
   "id": "6f8936d7-25ba-4b28-a8d4-d2bc40e14bce",
   "metadata": {},
   "outputs": [],
   "source": [
    "X2 = model.matrix(y ~ x7 + x8, data = df)\n",
    "beta_hat2 = solve(t(X2) %*% X2) %*% t(X2) %*% y\n",
    "y_hat2 = X2 %*% beta_hat2\n",
    "n2 = nrow(X2)\n",
    "p2 = ncol(X2)\n",
    "SCT2 = as.numeric(t(y) %*% y - sum(y)**2 / n2)\n",
    "SCE2 = as.numeric(t(beta_hat2) %*% t(X2) %*% y - sum(y)**2 / n2)\n",
    "SSE2 = SCT - SCE\n",
    "varest2 = SSE / (n2-p2)\n",
    "cov_beta2 = varest * solve(t(X2) %*% X2)\n",
    "se_beta2 = sqrt(diag(cov_beta))"
   ]
  },
  {
   "cell_type": "code",
   "execution_count": 143,
   "id": "6334fe72-f14a-47a8-bb2e-24271483434a",
   "metadata": {},
   "outputs": [],
   "source": [
    "model2 = lm(y ~ x7 + x8, data=df)"
   ]
  },
  {
   "cell_type": "code",
   "execution_count": 144,
   "id": "d84c7639-1a2f-4bcb-b8d8-a5ff15f8b95f",
   "metadata": {},
   "outputs": [
    {
     "data": {
      "text/plain": [
       "\n",
       "Call:\n",
       "lm(formula = y ~ x7 + x8, data = df)\n",
       "\n",
       "Residuals:\n",
       "    Min      1Q  Median      3Q     Max \n",
       "-3.7985 -1.5166 -0.5792  1.9927  4.5248 \n",
       "\n",
       "Coefficients:\n",
       "             Estimate Std. Error t value Pr(>|t|)   \n",
       "(Intercept) 17.944319   9.862484   1.819  0.08084 . \n",
       "x7           0.048371   0.119219   0.406  0.68839   \n",
       "x8          -0.006537   0.001758  -3.719  0.00102 **\n",
       "---\n",
       "Signif. codes:  0 '***' 0.001 '**' 0.01 '*' 0.05 '.' 0.1 ' ' 1\n",
       "\n",
       "Residual standard error: 2.432 on 25 degrees of freedom\n",
       "Multiple R-squared:  0.5477,\tAdjusted R-squared:  0.5115 \n",
       "F-statistic: 15.13 on 2 and 25 DF,  p-value: 4.935e-05\n"
      ]
     },
     "metadata": {},
     "output_type": "display_data"
    }
   ],
   "source": [
    "summary(model2)"
   ]
  },
  {
   "cell_type": "code",
   "execution_count": 148,
   "id": "a1c971f7-825b-48b6-90ba-ed3148a04a68",
   "metadata": {},
   "outputs": [
    {
     "data": {
      "text/html": [
       "<table class=\"dataframe\">\n",
       "<caption>A matrix: 3 × 1 of type dbl</caption>\n",
       "<tbody>\n",
       "\t<tr><th scope=row>(Intercept)</th><td>17.944318520</td></tr>\n",
       "\t<tr><th scope=row>x7</th><td> 0.048370869</td></tr>\n",
       "\t<tr><th scope=row>x8</th><td>-0.006536593</td></tr>\n",
       "</tbody>\n",
       "</table>\n"
      ],
      "text/latex": [
       "A matrix: 3 × 1 of type dbl\n",
       "\\begin{tabular}{r|l}\n",
       "\t(Intercept) & 17.944318520\\\\\n",
       "\tx7 &  0.048370869\\\\\n",
       "\tx8 & -0.006536593\\\\\n",
       "\\end{tabular}\n"
      ],
      "text/markdown": [
       "\n",
       "A matrix: 3 × 1 of type dbl\n",
       "\n",
       "| (Intercept) | 17.944318520 |\n",
       "| x7 |  0.048370869 |\n",
       "| x8 | -0.006536593 |\n",
       "\n"
      ],
      "text/plain": [
       "            [,1]        \n",
       "(Intercept) 17.944318520\n",
       "x7           0.048370869\n",
       "x8          -0.006536593"
      ]
     },
     "metadata": {},
     "output_type": "display_data"
    }
   ],
   "source": [
    "beta_hat2"
   ]
  },
  {
   "cell_type": "code",
   "execution_count": 149,
   "id": "44f33c9e-c559-4223-950e-86bfedba0591",
   "metadata": {},
   "outputs": [
    {
     "data": {
      "text/html": [
       "<table class=\"dataframe\">\n",
       "<caption>A anova: 3 × 5</caption>\n",
       "<thead>\n",
       "\t<tr><th></th><th scope=col>Df</th><th scope=col>Sum Sq</th><th scope=col>Mean Sq</th><th scope=col>F value</th><th scope=col>Pr(&gt;F)</th></tr>\n",
       "\t<tr><th></th><th scope=col>&lt;int&gt;</th><th scope=col>&lt;dbl&gt;</th><th scope=col>&lt;dbl&gt;</th><th scope=col>&lt;dbl&gt;</th><th scope=col>&lt;dbl&gt;</th></tr>\n",
       "</thead>\n",
       "<tbody>\n",
       "\t<tr><th scope=row>x7</th><td> 1</td><td> 97.23815</td><td>97.238147</td><td>16.43668</td><td>0.0004309943</td></tr>\n",
       "\t<tr><th scope=row>x8</th><td> 1</td><td> 81.82804</td><td>81.828040</td><td>13.83183</td><td>0.0010154260</td></tr>\n",
       "\t<tr><th scope=row>Residuals</th><td>25</td><td>147.89810</td><td> 5.915924</td><td>      NA</td><td>          NA</td></tr>\n",
       "</tbody>\n",
       "</table>\n"
      ],
      "text/latex": [
       "A anova: 3 × 5\n",
       "\\begin{tabular}{r|lllll}\n",
       "  & Df & Sum Sq & Mean Sq & F value & Pr(>F)\\\\\n",
       "  & <int> & <dbl> & <dbl> & <dbl> & <dbl>\\\\\n",
       "\\hline\n",
       "\tx7 &  1 &  97.23815 & 97.238147 & 16.43668 & 0.0004309943\\\\\n",
       "\tx8 &  1 &  81.82804 & 81.828040 & 13.83183 & 0.0010154260\\\\\n",
       "\tResiduals & 25 & 147.89810 &  5.915924 &       NA &           NA\\\\\n",
       "\\end{tabular}\n"
      ],
      "text/markdown": [
       "\n",
       "A anova: 3 × 5\n",
       "\n",
       "| <!--/--> | Df &lt;int&gt; | Sum Sq &lt;dbl&gt; | Mean Sq &lt;dbl&gt; | F value &lt;dbl&gt; | Pr(&gt;F) &lt;dbl&gt; |\n",
       "|---|---|---|---|---|---|\n",
       "| x7 |  1 |  97.23815 | 97.238147 | 16.43668 | 0.0004309943 |\n",
       "| x8 |  1 |  81.82804 | 81.828040 | 13.83183 | 0.0010154260 |\n",
       "| Residuals | 25 | 147.89810 |  5.915924 |       NA |           NA |\n",
       "\n"
      ],
      "text/plain": [
       "          Df Sum Sq    Mean Sq   F value  Pr(>F)      \n",
       "x7         1  97.23815 97.238147 16.43668 0.0004309943\n",
       "x8         1  81.82804 81.828040 13.83183 0.0010154260\n",
       "Residuals 25 147.89810  5.915924       NA           NA"
      ]
     },
     "metadata": {},
     "output_type": "display_data"
    }
   ],
   "source": [
    "anova(model2)"
   ]
  },
  {
   "cell_type": "markdown",
   "id": "b79e753c-e41d-4fd0-8bcf-cde834229908",
   "metadata": {},
   "source": [
    "Ambas variables son significativas, aunque no se tiene un modelo tan bueno como el que considera las tres variables $x_2, x_7 $ y $x_8$"
   ]
  },
  {
   "cell_type": "markdown",
   "id": "cccb6369-1244-494f-bbb7-97cc45957c6f",
   "metadata": {},
   "source": [
    "## j)\n",
    "Calcular $R^2$ y $R^2_{adj}$. Compararlos con los resultados del modelo anterior."
   ]
  },
  {
   "cell_type": "code",
   "execution_count": 150,
   "id": "868b18d1-b724-4896-b29a-9d9cf9807f15",
   "metadata": {},
   "outputs": [
    {
     "data": {
      "text/html": [
       "0.547662835056143"
      ],
      "text/latex": [
       "0.547662835056143"
      ],
      "text/markdown": [
       "0.547662835056143"
      ],
      "text/plain": [
       "[1] 0.5476628"
      ]
     },
     "metadata": {},
     "output_type": "display_data"
    }
   ],
   "source": [
    "R2 = SCE2 / SCT2\n",
    "R2"
   ]
  },
  {
   "cell_type": "code",
   "execution_count": 99,
   "id": "855d3c17-7fbd-4478-83ae-fae2f0f74acb",
   "metadata": {},
   "outputs": [
    {
     "data": {
      "text/html": [
       "0.547662835055794"
      ],
      "text/latex": [
       "0.547662835055794"
      ],
      "text/markdown": [
       "0.547662835055794"
      ],
      "text/plain": [
       "[1] 0.5476628"
      ]
     },
     "metadata": {},
     "output_type": "display_data"
    }
   ],
   "source": [
    "summary(model2)$r.squared"
   ]
  },
  {
   "cell_type": "code",
   "execution_count": 151,
   "id": "15f900b0-65fd-488f-8268-1086d02a41c1",
   "metadata": {},
   "outputs": [
    {
     "data": {
      "text/html": [
       "0.511475861860634"
      ],
      "text/latex": [
       "0.511475861860634"
      ],
      "text/markdown": [
       "0.511475861860634"
      ],
      "text/plain": [
       "[1] 0.5114759"
      ]
     },
     "metadata": {},
     "output_type": "display_data"
    }
   ],
   "source": [
    "R2_adj = 1 - ((SSE2 / (n2 - p2)) / (SCT2 / (n2 - 1)))\n",
    "R2_adj"
   ]
  },
  {
   "cell_type": "code",
   "execution_count": 100,
   "id": "d4c34d81-8422-4b93-a7c6-4880e94777f2",
   "metadata": {},
   "outputs": [
    {
     "data": {
      "text/html": [
       "0.511475861860258"
      ],
      "text/latex": [
       "0.511475861860258"
      ],
      "text/markdown": [
       "0.511475861860258"
      ],
      "text/plain": [
       "[1] 0.5114759"
      ]
     },
     "metadata": {},
     "output_type": "display_data"
    }
   ],
   "source": [
    "summary(model2)$adj.r.squared"
   ]
  },
  {
   "cell_type": "markdown",
   "id": "86f12edd-5f17-48fe-ab1f-3fa1487cf24f",
   "metadata": {},
   "source": [
    "El sólo considerar las dos variables $x_7$ y $x_8$ da un peor modelo de regresión múltiple que al considerar también la variable $x_2$, puesto que esta última sí es una variable regresora significativa y ofrece información importante al modelo."
   ]
  },
  {
   "cell_type": "markdown",
   "id": "00a87e60-1571-47d1-adc4-cdb8425f0ff1",
   "metadata": {
    "jp-MarkdownHeadingCollapsed": true
   },
   "source": [
    "## k)\n",
    "Calcular un intervalo de confianza de $95%$ para $\\beta_7$. También, un intervalo de confianza de $95%$ para la cantidad media de juegos ganados por un equipo cuando $x_7=56$ y $x_8=2100$. Comparar las longitudes de esos intervalos de confianza con las longitudes de los correspondientes al modelo anterior"
   ]
  },
  {
   "cell_type": "code",
   "execution_count": 153,
   "id": "7513fc7f-f22b-4970-ae28-030da7261b2d",
   "metadata": {},
   "outputs": [],
   "source": [
    "gl2 = n2 - p2\n",
    "tt2 = qt(p = 0.95 + 0.05/2, df = gl2, lower.tail = TRUE)\n",
    "beta7_hat2 = beta_hat2[2, 1]\n",
    "se_beta7_2 = se_beta[2]\n",
    "ic2_beta7_izq = beta7_hat2 - tt2 * se_beta7_2\n",
    "ic2_beta7_der = beta7_hat2 + tt2 * se_beta7_2"
   ]
  },
  {
   "cell_type": "code",
   "execution_count": 154,
   "id": "34257ad1-85d7-4098-a990-59f2a08ef2b3",
   "metadata": {},
   "outputs": [
    {
     "name": "stdout",
     "output_type": "stream",
     "text": [
      "Intervalo de confianza 95% para β₇:\n",
      "Límite inferior: -0.1972 \n",
      "Estimación: 0.0484 \n",
      "Límite superior: 0.2939 \n",
      "Longitud: 0.4911 \n"
     ]
    }
   ],
   "source": [
    "cat(\"Intervalo de confianza 95% para β₇:\\n\")\n",
    "cat(\"Límite inferior:\", round(ic2_beta7_izq, 4), \"\\n\")\n",
    "cat(\"Estimación:\", round(beta7_hat2, 4), \"\\n\")\n",
    "cat(\"Límite superior:\", round(ic2_beta7_der, 4), \"\\n\")\n",
    "cat(\"Longitud:\", round(ic2_beta7_der - ic2_beta7_izq, 4), \"\\n\")"
   ]
  },
  {
   "cell_type": "code",
   "execution_count": 106,
   "id": "ef7b4ce2-15ce-4687-9d9d-285a76592887",
   "metadata": {},
   "outputs": [
    {
     "data": {
      "text/html": [
       "<style>\n",
       ".dl-inline {width: auto; margin:0; padding: 0}\n",
       ".dl-inline>dt, .dl-inline>dd {float: none; width: auto; display: inline-block}\n",
       ".dl-inline>dt::after {content: \":\\0020\"; padding-right: .5ex}\n",
       ".dl-inline>dt:not(:first-of-type) {padding-left: .5ex}\n",
       "</style><dl class=dl-inline><dt>2.5 %</dt><dd>-0.197164285058161</dd><dt>97.5 %</dt><dd>0.293906022190332</dd></dl>\n"
      ],
      "text/latex": [
       "\\begin{description*}\n",
       "\\item[2.5 \\textbackslash{}\\%] -0.197164285058161\n",
       "\\item[97.5 \\textbackslash{}\\%] 0.293906022190332\n",
       "\\end{description*}\n"
      ],
      "text/markdown": [
       "2.5 %\n",
       ":   -0.19716428505816197.5 %\n",
       ":   0.293906022190332\n",
       "\n"
      ],
      "text/plain": [
       "     2.5 %     97.5 % \n",
       "-0.1971643  0.2939060 "
      ]
     },
     "metadata": {},
     "output_type": "display_data"
    }
   ],
   "source": [
    "confint(model2, level = 0.95)[\"x7\", ]"
   ]
  },
  {
   "cell_type": "code",
   "execution_count": 164,
   "id": "f0b610e8-6da6-4f5a-9888-f8f783e167a9",
   "metadata": {},
   "outputs": [
    {
     "data": {
      "text/html": [
       "<table class=\"dataframe\">\n",
       "<caption>A matrix: 3 × 1 of type dbl</caption>\n",
       "<tbody>\n",
       "\t<tr><td>   1</td></tr>\n",
       "\t<tr><td>  56</td></tr>\n",
       "\t<tr><td>2100</td></tr>\n",
       "</tbody>\n",
       "</table>\n"
      ],
      "text/latex": [
       "A matrix: 3 × 1 of type dbl\n",
       "\\begin{tabular}{l}\n",
       "\t    1\\\\\n",
       "\t   56\\\\\n",
       "\t 2100\\\\\n",
       "\\end{tabular}\n"
      ],
      "text/markdown": [
       "\n",
       "A matrix: 3 × 1 of type dbl\n",
       "\n",
       "|    1 |\n",
       "|   56 |\n",
       "| 2100 |\n",
       "\n"
      ],
      "text/plain": [
       "     [,1]\n",
       "[1,]    1\n",
       "[2,]   56\n",
       "[3,] 2100"
      ]
     },
     "metadata": {},
     "output_type": "display_data"
    }
   ],
   "source": [
    "X1 = matrix(c(1, 56, 2100), nrow=3)\n",
    "X1"
   ]
  },
  {
   "cell_type": "code",
   "execution_count": 156,
   "id": "5707ee07-14e0-4368-be1c-a00ad79281ba",
   "metadata": {},
   "outputs": [
    {
     "data": {
      "text/html": [
       "<table class=\"dataframe\">\n",
       "<caption>A matrix: 1 × 1 of type dbl</caption>\n",
       "<tbody>\n",
       "\t<tr><td>6.926243</td></tr>\n",
       "</tbody>\n",
       "</table>\n"
      ],
      "text/latex": [
       "A matrix: 1 × 1 of type dbl\n",
       "\\begin{tabular}{l}\n",
       "\t 6.926243\\\\\n",
       "\\end{tabular}\n"
      ],
      "text/markdown": [
       "\n",
       "A matrix: 1 × 1 of type dbl\n",
       "\n",
       "| 6.926243 |\n",
       "\n"
      ],
      "text/plain": [
       "     [,1]    \n",
       "[1,] 6.926243"
      ]
     },
     "metadata": {},
     "output_type": "display_data"
    }
   ],
   "source": [
    "y1 = t(X1) %*% beta_hat2\n",
    "y1"
   ]
  },
  {
   "cell_type": "code",
   "execution_count": 161,
   "id": "a3189e3e-b3ca-4fd7-8b82-fdc09a009aa2",
   "metadata": {},
   "outputs": [],
   "source": [
    "var_y1 = varest * t(X1) %*% solve(t(X) %*% X) %*% X1\n",
    "se_y1 = sqrt(var_y1)"
   ]
  },
  {
   "cell_type": "code",
   "execution_count": 162,
   "id": "ec068c70-d230-4ef7-a6fc-a0c6ce235e18",
   "metadata": {},
   "outputs": [],
   "source": [
    "ic_y1_izq <- y1 - tt * se_y1\n",
    "ic_y1_der <- y1 + tt * se_y1"
   ]
  },
  {
   "cell_type": "code",
   "execution_count": 163,
   "id": "eeddb72b-a0bb-4bc9-b839-7eb2d944175b",
   "metadata": {},
   "outputs": [
    {
     "name": "stdout",
     "output_type": "stream",
     "text": [
      "\n",
      "Intervalo de confianza 95% para la respuesta media:\n",
      "Límite inferior: 5.8263 \n",
      "Predicción: 6.9262 \n",
      "Límite superior: 8.0262 \n",
      "Longitud: 2.1998 \n"
     ]
    }
   ],
   "source": [
    "cat(\"\\nIntervalo de confianza 95% para la respuesta media:\\n\")\n",
    "cat(\"Límite inferior:\", round(ic_y1_izq, 4), \"\\n\")\n",
    "cat(\"Predicción:\", round(y1, 4), \"\\n\")\n",
    "cat(\"Límite superior:\", round(ic_y1_der, 4), \"\\n\")\n",
    "cat(\"Longitud:\", round(ic_y1_der-ic_y1_izq, 4), \"\\n\")"
   ]
  },
  {
   "cell_type": "markdown",
   "id": "7784f44f-d8c4-4fac-83b0-2fd26cfb1d74",
   "metadata": {
    "jp-MarkdownHeadingCollapsed": true
   },
   "source": [
    "## l)\n",
    "¿Qué conclusiones se pueden sacar de este problema, acerca de las consecuencias de omitir un regresor importante de un modelo?"
   ]
  },
  {
   "cell_type": "markdown",
   "id": "877a30ab-efb3-4000-91de-8533e11a347b",
   "metadata": {},
   "source": [
    "Eliminar una variable regresora que sí es estadísticamente significativa, afecta de manera negativa la calidad del modelo que se está intentando hacer, dado que hace que se pierda información importante para predecir el comportamiento de los datos, es entonces que las métricas como $R^2$ y $R^2_{adj}$ resultan más bajas."
   ]
  },
  {
   "cell_type": "code",
   "execution_count": null,
   "id": "e7d7d18d-edfc-46a7-b1ee-cdec4422c7f7",
   "metadata": {},
   "outputs": [],
   "source": []
  }
 ],
 "metadata": {
  "kernelspec": {
   "display_name": "R",
   "language": "R",
   "name": "ir"
  },
  "language_info": {
   "codemirror_mode": "r",
   "file_extension": ".r",
   "mimetype": "text/x-r-source",
   "name": "R",
   "pygments_lexer": "r",
   "version": "4.4.2"
  }
 },
 "nbformat": 4,
 "nbformat_minor": 5
}
