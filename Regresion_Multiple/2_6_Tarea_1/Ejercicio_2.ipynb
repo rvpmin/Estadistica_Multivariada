{
 "cells": [
  {
   "cell_type": "markdown",
   "id": "6a3b6ac9-17a4-4fe2-b37b-3c9a1f8a2bfa",
   "metadata": {},
   "source": [
    "# Ejercicio 02  R"
   ]
  },
  {
   "cell_type": "markdown",
   "id": "3b77c488-c508-40c8-bb66-e73146e96b6d",
   "metadata": {
    "jp-MarkdownHeadingCollapsed": true
   },
   "source": [
    "## Datos"
   ]
  },
  {
   "cell_type": "code",
   "execution_count": 1,
   "id": "3b81ff3e-9c61-4a5d-b6c3-2ff65a3adda7",
   "metadata": {},
   "outputs": [],
   "source": [
    "df = read.csv('Rendimiento_de_gasolina.csv')"
   ]
  },
  {
   "cell_type": "code",
   "execution_count": 2,
   "id": "6f9f6b47-7a72-41fc-ac5f-f475c177fdb9",
   "metadata": {},
   "outputs": [
    {
     "data": {
      "text/html": [
       "<table class=\"dataframe\">\n",
       "<caption>A data.frame: 32 × 13</caption>\n",
       "<thead>\n",
       "\t<tr><th scope=col>Automóvil</th><th scope=col>y</th><th scope=col>x1</th><th scope=col>x2</th><th scope=col>x3</th><th scope=col>x4</th><th scope=col>x5</th><th scope=col>x6</th><th scope=col>x7</th><th scope=col>x8</th><th scope=col>x9</th><th scope=col>x10</th><th scope=col>x11</th></tr>\n",
       "\t<tr><th scope=col>&lt;chr&gt;</th><th scope=col>&lt;dbl&gt;</th><th scope=col>&lt;dbl&gt;</th><th scope=col>&lt;int&gt;</th><th scope=col>&lt;int&gt;</th><th scope=col>&lt;dbl&gt;</th><th scope=col>&lt;dbl&gt;</th><th scope=col>&lt;int&gt;</th><th scope=col>&lt;int&gt;</th><th scope=col>&lt;dbl&gt;</th><th scope=col>&lt;dbl&gt;</th><th scope=col>&lt;int&gt;</th><th scope=col>&lt;int&gt;</th></tr>\n",
       "</thead>\n",
       "<tbody>\n",
       "\t<tr><td>Apollo      </td><td>18.90</td><td>350.0</td><td>165</td><td>260</td><td>8.00</td><td>2.56</td><td>4</td><td>3</td><td>200.3</td><td>69.9</td><td>3910</td><td>1</td></tr>\n",
       "\t<tr><td>Omega       </td><td>17.00</td><td>350.0</td><td>170</td><td>275</td><td>8.50</td><td>2.56</td><td>4</td><td>3</td><td>199.6</td><td>72.9</td><td>3860</td><td>1</td></tr>\n",
       "\t<tr><td>Nova        </td><td>20.00</td><td>250.0</td><td>105</td><td>185</td><td>8.25</td><td>2.73</td><td>1</td><td>3</td><td>196.7</td><td>72.2</td><td>3510</td><td>1</td></tr>\n",
       "\t<tr><td>Monarch     </td><td>18.25</td><td>351.0</td><td>143</td><td>255</td><td>8.00</td><td>3.00</td><td>2</td><td>3</td><td>199.9</td><td>74.0</td><td>3890</td><td>1</td></tr>\n",
       "\t<tr><td>Duster      </td><td>20.07</td><td>225.0</td><td> 95</td><td>170</td><td>8.40</td><td>2.76</td><td>1</td><td>3</td><td>194.1</td><td>71.8</td><td>3365</td><td>0</td></tr>\n",
       "\t<tr><td>Jenson Conv.</td><td>11.20</td><td>440.0</td><td>215</td><td>330</td><td>8.20</td><td>2.88</td><td>4</td><td>3</td><td>184.5</td><td>69.0</td><td>4215</td><td>1</td></tr>\n",
       "\t<tr><td>Skyhawk     </td><td>22.12</td><td>231.0</td><td>110</td><td>175</td><td>8.00</td><td>2.56</td><td>2</td><td>3</td><td>179.3</td><td>65.4</td><td>3020</td><td>1</td></tr>\n",
       "\t<tr><td>Monza       </td><td>21.47</td><td>262.0</td><td>110</td><td>200</td><td>8.50</td><td>2.56</td><td>2</td><td>3</td><td>179.3</td><td>65.4</td><td>3180</td><td>1</td></tr>\n",
       "\t<tr><td>Scirocco    </td><td>34.70</td><td> 89.7</td><td> 70</td><td> 81</td><td>8.20</td><td>3.90</td><td>2</td><td>4</td><td>155.7</td><td>64.0</td><td>1905</td><td>0</td></tr>\n",
       "\t<tr><td>Corolla SR-5</td><td>30.40</td><td> 96.9</td><td> 75</td><td> 83</td><td>9.00</td><td>4.30</td><td>2</td><td>5</td><td>165.2</td><td>65.0</td><td>2320</td><td>0</td></tr>\n",
       "\t<tr><td>Camaro      </td><td>16.50</td><td>350.0</td><td>155</td><td>250</td><td>8.50</td><td>3.08</td><td>4</td><td>3</td><td>195.4</td><td>74.4</td><td>3885</td><td>1</td></tr>\n",
       "\t<tr><td>Datsun B210 </td><td>36.50</td><td> 85.3</td><td> 80</td><td> 83</td><td>8.50</td><td>3.89</td><td>2</td><td>4</td><td>160.6</td><td>62.2</td><td>2009</td><td>0</td></tr>\n",
       "\t<tr><td>Capri II    </td><td>21.50</td><td>171.0</td><td>109</td><td>146</td><td>8.20</td><td>3.22</td><td>2</td><td>4</td><td>170.4</td><td>66.9</td><td>2655</td><td>0</td></tr>\n",
       "\t<tr><td>Pacer       </td><td>19.70</td><td>258.0</td><td>110</td><td>195</td><td>8.00</td><td>3.08</td><td>1</td><td>3</td><td>171.5</td><td>77.0</td><td>3375</td><td>1</td></tr>\n",
       "\t<tr><td>Babcat      </td><td>20.30</td><td>140.0</td><td> 83</td><td>109</td><td>8.40</td><td>3.40</td><td>2</td><td>4</td><td>168.8</td><td>69.4</td><td>2700</td><td>0</td></tr>\n",
       "\t<tr><td>Granada     </td><td>17.80</td><td>302.0</td><td>129</td><td>220</td><td>8.00</td><td>3.00</td><td>2</td><td>3</td><td>199.9</td><td>74.0</td><td>3890</td><td>1</td></tr>\n",
       "\t<tr><td>Eldorado    </td><td>14.39</td><td>500.0</td><td>190</td><td>360</td><td>8.50</td><td>2.73</td><td>4</td><td>3</td><td>224.1</td><td>79.8</td><td>5290</td><td>1</td></tr>\n",
       "\t<tr><td>Imperial    </td><td>14.89</td><td>440.0</td><td>215</td><td>330</td><td>8.20</td><td>2.71</td><td>4</td><td>3</td><td>231.0</td><td>79.7</td><td>5185</td><td>1</td></tr>\n",
       "\t<tr><td>Nova LN     </td><td>17.80</td><td>350.0</td><td>155</td><td>250</td><td>8.50</td><td>3.08</td><td>4</td><td>3</td><td>196.7</td><td>72.2</td><td>3910</td><td>1</td></tr>\n",
       "\t<tr><td>Valiant     </td><td>16.41</td><td>318.0</td><td>145</td><td>255</td><td>8.50</td><td>2.45</td><td>2</td><td>3</td><td>197.6</td><td>71.0</td><td>3660</td><td>1</td></tr>\n",
       "\t<tr><td>Starfire    </td><td>23.54</td><td>231.0</td><td>110</td><td>175</td><td>8.00</td><td>2.56</td><td>2</td><td>3</td><td>179.3</td><td>65.4</td><td>3050</td><td>1</td></tr>\n",
       "\t<tr><td>Cordoba     </td><td>21.47</td><td>360.0</td><td>180</td><td>290</td><td>8.40</td><td>2.45</td><td>2</td><td>3</td><td>214.2</td><td>76.3</td><td>4250</td><td>1</td></tr>\n",
       "\t<tr><td>Trans AM    </td><td>16.59</td><td>400.0</td><td>185</td><td> NA</td><td>7.60</td><td>3.08</td><td>4</td><td>3</td><td>196.0</td><td>73.0</td><td>3850</td><td>1</td></tr>\n",
       "\t<tr><td>Corolla E-5 </td><td>31.90</td><td> 96.9</td><td> 75</td><td> 83</td><td>9.00</td><td>4.30</td><td>2</td><td>5</td><td>165.2</td><td>61.8</td><td>2275</td><td>0</td></tr>\n",
       "\t<tr><td>Astre       </td><td>29.40</td><td>140.0</td><td> 86</td><td> NA</td><td>8.00</td><td>2.92</td><td>2</td><td>4</td><td>176.4</td><td>65.4</td><td>2150</td><td>0</td></tr>\n",
       "\t<tr><td>Mark IV     </td><td>13.27</td><td>460.0</td><td>223</td><td>366</td><td>8.00</td><td>3.00</td><td>4</td><td>3</td><td>228.0</td><td>79.8</td><td>5430</td><td>1</td></tr>\n",
       "\t<tr><td>Celica GT   </td><td>23.90</td><td>133.6</td><td> 96</td><td>120</td><td>8.40</td><td>3.91</td><td>2</td><td>5</td><td>171.5</td><td>63.4</td><td>2535</td><td>0</td></tr>\n",
       "\t<tr><td>Charger SE  </td><td>19.73</td><td>318.0</td><td>140</td><td>255</td><td>8.50</td><td>2.71</td><td>2</td><td>3</td><td>215.3</td><td>76.3</td><td>4370</td><td>1</td></tr>\n",
       "\t<tr><td>Cougar      </td><td>13.90</td><td>351.0</td><td>148</td><td>243</td><td>8.00</td><td>3.25</td><td>2</td><td>3</td><td>215.5</td><td>78.5</td><td>4540</td><td>1</td></tr>\n",
       "\t<tr><td>Elite       </td><td>13.27</td><td>351.0</td><td>148</td><td>243</td><td>8.00</td><td>3.26</td><td>2</td><td>3</td><td>216.1</td><td>78.5</td><td>4715</td><td>1</td></tr>\n",
       "\t<tr><td>Matador     </td><td>13.77</td><td>360.0</td><td>195</td><td>295</td><td>8.25</td><td>3.15</td><td>4</td><td>3</td><td>209.3</td><td>77.4</td><td>4215</td><td>1</td></tr>\n",
       "\t<tr><td>Corvette    </td><td>16.50</td><td>360.0</td><td>165</td><td>255</td><td>8.50</td><td>2.73</td><td>4</td><td>3</td><td>185.2</td><td>69.0</td><td>3660</td><td>1</td></tr>\n",
       "</tbody>\n",
       "</table>\n"
      ],
      "text/latex": [
       "A data.frame: 32 × 13\n",
       "\\begin{tabular}{lllllllllllll}\n",
       " Automóvil & y & x1 & x2 & x3 & x4 & x5 & x6 & x7 & x8 & x9 & x10 & x11\\\\\n",
       " <chr> & <dbl> & <dbl> & <int> & <int> & <dbl> & <dbl> & <int> & <int> & <dbl> & <dbl> & <int> & <int>\\\\\n",
       "\\hline\n",
       "\t Apollo       & 18.90 & 350.0 & 165 & 260 & 8.00 & 2.56 & 4 & 3 & 200.3 & 69.9 & 3910 & 1\\\\\n",
       "\t Omega        & 17.00 & 350.0 & 170 & 275 & 8.50 & 2.56 & 4 & 3 & 199.6 & 72.9 & 3860 & 1\\\\\n",
       "\t Nova         & 20.00 & 250.0 & 105 & 185 & 8.25 & 2.73 & 1 & 3 & 196.7 & 72.2 & 3510 & 1\\\\\n",
       "\t Monarch      & 18.25 & 351.0 & 143 & 255 & 8.00 & 3.00 & 2 & 3 & 199.9 & 74.0 & 3890 & 1\\\\\n",
       "\t Duster       & 20.07 & 225.0 &  95 & 170 & 8.40 & 2.76 & 1 & 3 & 194.1 & 71.8 & 3365 & 0\\\\\n",
       "\t Jenson Conv. & 11.20 & 440.0 & 215 & 330 & 8.20 & 2.88 & 4 & 3 & 184.5 & 69.0 & 4215 & 1\\\\\n",
       "\t Skyhawk      & 22.12 & 231.0 & 110 & 175 & 8.00 & 2.56 & 2 & 3 & 179.3 & 65.4 & 3020 & 1\\\\\n",
       "\t Monza        & 21.47 & 262.0 & 110 & 200 & 8.50 & 2.56 & 2 & 3 & 179.3 & 65.4 & 3180 & 1\\\\\n",
       "\t Scirocco     & 34.70 &  89.7 &  70 &  81 & 8.20 & 3.90 & 2 & 4 & 155.7 & 64.0 & 1905 & 0\\\\\n",
       "\t Corolla SR-5 & 30.40 &  96.9 &  75 &  83 & 9.00 & 4.30 & 2 & 5 & 165.2 & 65.0 & 2320 & 0\\\\\n",
       "\t Camaro       & 16.50 & 350.0 & 155 & 250 & 8.50 & 3.08 & 4 & 3 & 195.4 & 74.4 & 3885 & 1\\\\\n",
       "\t Datsun B210  & 36.50 &  85.3 &  80 &  83 & 8.50 & 3.89 & 2 & 4 & 160.6 & 62.2 & 2009 & 0\\\\\n",
       "\t Capri II     & 21.50 & 171.0 & 109 & 146 & 8.20 & 3.22 & 2 & 4 & 170.4 & 66.9 & 2655 & 0\\\\\n",
       "\t Pacer        & 19.70 & 258.0 & 110 & 195 & 8.00 & 3.08 & 1 & 3 & 171.5 & 77.0 & 3375 & 1\\\\\n",
       "\t Babcat       & 20.30 & 140.0 &  83 & 109 & 8.40 & 3.40 & 2 & 4 & 168.8 & 69.4 & 2700 & 0\\\\\n",
       "\t Granada      & 17.80 & 302.0 & 129 & 220 & 8.00 & 3.00 & 2 & 3 & 199.9 & 74.0 & 3890 & 1\\\\\n",
       "\t Eldorado     & 14.39 & 500.0 & 190 & 360 & 8.50 & 2.73 & 4 & 3 & 224.1 & 79.8 & 5290 & 1\\\\\n",
       "\t Imperial     & 14.89 & 440.0 & 215 & 330 & 8.20 & 2.71 & 4 & 3 & 231.0 & 79.7 & 5185 & 1\\\\\n",
       "\t Nova LN      & 17.80 & 350.0 & 155 & 250 & 8.50 & 3.08 & 4 & 3 & 196.7 & 72.2 & 3910 & 1\\\\\n",
       "\t Valiant      & 16.41 & 318.0 & 145 & 255 & 8.50 & 2.45 & 2 & 3 & 197.6 & 71.0 & 3660 & 1\\\\\n",
       "\t Starfire     & 23.54 & 231.0 & 110 & 175 & 8.00 & 2.56 & 2 & 3 & 179.3 & 65.4 & 3050 & 1\\\\\n",
       "\t Cordoba      & 21.47 & 360.0 & 180 & 290 & 8.40 & 2.45 & 2 & 3 & 214.2 & 76.3 & 4250 & 1\\\\\n",
       "\t Trans AM     & 16.59 & 400.0 & 185 &  NA & 7.60 & 3.08 & 4 & 3 & 196.0 & 73.0 & 3850 & 1\\\\\n",
       "\t Corolla E-5  & 31.90 &  96.9 &  75 &  83 & 9.00 & 4.30 & 2 & 5 & 165.2 & 61.8 & 2275 & 0\\\\\n",
       "\t Astre        & 29.40 & 140.0 &  86 &  NA & 8.00 & 2.92 & 2 & 4 & 176.4 & 65.4 & 2150 & 0\\\\\n",
       "\t Mark IV      & 13.27 & 460.0 & 223 & 366 & 8.00 & 3.00 & 4 & 3 & 228.0 & 79.8 & 5430 & 1\\\\\n",
       "\t Celica GT    & 23.90 & 133.6 &  96 & 120 & 8.40 & 3.91 & 2 & 5 & 171.5 & 63.4 & 2535 & 0\\\\\n",
       "\t Charger SE   & 19.73 & 318.0 & 140 & 255 & 8.50 & 2.71 & 2 & 3 & 215.3 & 76.3 & 4370 & 1\\\\\n",
       "\t Cougar       & 13.90 & 351.0 & 148 & 243 & 8.00 & 3.25 & 2 & 3 & 215.5 & 78.5 & 4540 & 1\\\\\n",
       "\t Elite        & 13.27 & 351.0 & 148 & 243 & 8.00 & 3.26 & 2 & 3 & 216.1 & 78.5 & 4715 & 1\\\\\n",
       "\t Matador      & 13.77 & 360.0 & 195 & 295 & 8.25 & 3.15 & 4 & 3 & 209.3 & 77.4 & 4215 & 1\\\\\n",
       "\t Corvette     & 16.50 & 360.0 & 165 & 255 & 8.50 & 2.73 & 4 & 3 & 185.2 & 69.0 & 3660 & 1\\\\\n",
       "\\end{tabular}\n"
      ],
      "text/markdown": [
       "\n",
       "A data.frame: 32 × 13\n",
       "\n",
       "| Automóvil &lt;chr&gt; | y &lt;dbl&gt; | x1 &lt;dbl&gt; | x2 &lt;int&gt; | x3 &lt;int&gt; | x4 &lt;dbl&gt; | x5 &lt;dbl&gt; | x6 &lt;int&gt; | x7 &lt;int&gt; | x8 &lt;dbl&gt; | x9 &lt;dbl&gt; | x10 &lt;int&gt; | x11 &lt;int&gt; |\n",
       "|---|---|---|---|---|---|---|---|---|---|---|---|---|\n",
       "| Apollo       | 18.90 | 350.0 | 165 | 260 | 8.00 | 2.56 | 4 | 3 | 200.3 | 69.9 | 3910 | 1 |\n",
       "| Omega        | 17.00 | 350.0 | 170 | 275 | 8.50 | 2.56 | 4 | 3 | 199.6 | 72.9 | 3860 | 1 |\n",
       "| Nova         | 20.00 | 250.0 | 105 | 185 | 8.25 | 2.73 | 1 | 3 | 196.7 | 72.2 | 3510 | 1 |\n",
       "| Monarch      | 18.25 | 351.0 | 143 | 255 | 8.00 | 3.00 | 2 | 3 | 199.9 | 74.0 | 3890 | 1 |\n",
       "| Duster       | 20.07 | 225.0 |  95 | 170 | 8.40 | 2.76 | 1 | 3 | 194.1 | 71.8 | 3365 | 0 |\n",
       "| Jenson Conv. | 11.20 | 440.0 | 215 | 330 | 8.20 | 2.88 | 4 | 3 | 184.5 | 69.0 | 4215 | 1 |\n",
       "| Skyhawk      | 22.12 | 231.0 | 110 | 175 | 8.00 | 2.56 | 2 | 3 | 179.3 | 65.4 | 3020 | 1 |\n",
       "| Monza        | 21.47 | 262.0 | 110 | 200 | 8.50 | 2.56 | 2 | 3 | 179.3 | 65.4 | 3180 | 1 |\n",
       "| Scirocco     | 34.70 |  89.7 |  70 |  81 | 8.20 | 3.90 | 2 | 4 | 155.7 | 64.0 | 1905 | 0 |\n",
       "| Corolla SR-5 | 30.40 |  96.9 |  75 |  83 | 9.00 | 4.30 | 2 | 5 | 165.2 | 65.0 | 2320 | 0 |\n",
       "| Camaro       | 16.50 | 350.0 | 155 | 250 | 8.50 | 3.08 | 4 | 3 | 195.4 | 74.4 | 3885 | 1 |\n",
       "| Datsun B210  | 36.50 |  85.3 |  80 |  83 | 8.50 | 3.89 | 2 | 4 | 160.6 | 62.2 | 2009 | 0 |\n",
       "| Capri II     | 21.50 | 171.0 | 109 | 146 | 8.20 | 3.22 | 2 | 4 | 170.4 | 66.9 | 2655 | 0 |\n",
       "| Pacer        | 19.70 | 258.0 | 110 | 195 | 8.00 | 3.08 | 1 | 3 | 171.5 | 77.0 | 3375 | 1 |\n",
       "| Babcat       | 20.30 | 140.0 |  83 | 109 | 8.40 | 3.40 | 2 | 4 | 168.8 | 69.4 | 2700 | 0 |\n",
       "| Granada      | 17.80 | 302.0 | 129 | 220 | 8.00 | 3.00 | 2 | 3 | 199.9 | 74.0 | 3890 | 1 |\n",
       "| Eldorado     | 14.39 | 500.0 | 190 | 360 | 8.50 | 2.73 | 4 | 3 | 224.1 | 79.8 | 5290 | 1 |\n",
       "| Imperial     | 14.89 | 440.0 | 215 | 330 | 8.20 | 2.71 | 4 | 3 | 231.0 | 79.7 | 5185 | 1 |\n",
       "| Nova LN      | 17.80 | 350.0 | 155 | 250 | 8.50 | 3.08 | 4 | 3 | 196.7 | 72.2 | 3910 | 1 |\n",
       "| Valiant      | 16.41 | 318.0 | 145 | 255 | 8.50 | 2.45 | 2 | 3 | 197.6 | 71.0 | 3660 | 1 |\n",
       "| Starfire     | 23.54 | 231.0 | 110 | 175 | 8.00 | 2.56 | 2 | 3 | 179.3 | 65.4 | 3050 | 1 |\n",
       "| Cordoba      | 21.47 | 360.0 | 180 | 290 | 8.40 | 2.45 | 2 | 3 | 214.2 | 76.3 | 4250 | 1 |\n",
       "| Trans AM     | 16.59 | 400.0 | 185 |  NA | 7.60 | 3.08 | 4 | 3 | 196.0 | 73.0 | 3850 | 1 |\n",
       "| Corolla E-5  | 31.90 |  96.9 |  75 |  83 | 9.00 | 4.30 | 2 | 5 | 165.2 | 61.8 | 2275 | 0 |\n",
       "| Astre        | 29.40 | 140.0 |  86 |  NA | 8.00 | 2.92 | 2 | 4 | 176.4 | 65.4 | 2150 | 0 |\n",
       "| Mark IV      | 13.27 | 460.0 | 223 | 366 | 8.00 | 3.00 | 4 | 3 | 228.0 | 79.8 | 5430 | 1 |\n",
       "| Celica GT    | 23.90 | 133.6 |  96 | 120 | 8.40 | 3.91 | 2 | 5 | 171.5 | 63.4 | 2535 | 0 |\n",
       "| Charger SE   | 19.73 | 318.0 | 140 | 255 | 8.50 | 2.71 | 2 | 3 | 215.3 | 76.3 | 4370 | 1 |\n",
       "| Cougar       | 13.90 | 351.0 | 148 | 243 | 8.00 | 3.25 | 2 | 3 | 215.5 | 78.5 | 4540 | 1 |\n",
       "| Elite        | 13.27 | 351.0 | 148 | 243 | 8.00 | 3.26 | 2 | 3 | 216.1 | 78.5 | 4715 | 1 |\n",
       "| Matador      | 13.77 | 360.0 | 195 | 295 | 8.25 | 3.15 | 4 | 3 | 209.3 | 77.4 | 4215 | 1 |\n",
       "| Corvette     | 16.50 | 360.0 | 165 | 255 | 8.50 | 2.73 | 4 | 3 | 185.2 | 69.0 | 3660 | 1 |\n",
       "\n"
      ],
      "text/plain": [
       "   Automóvil    y     x1    x2  x3  x4   x5   x6 x7 x8    x9   x10  x11\n",
       "1  Apollo       18.90 350.0 165 260 8.00 2.56 4  3  200.3 69.9 3910 1  \n",
       "2  Omega        17.00 350.0 170 275 8.50 2.56 4  3  199.6 72.9 3860 1  \n",
       "3  Nova         20.00 250.0 105 185 8.25 2.73 1  3  196.7 72.2 3510 1  \n",
       "4  Monarch      18.25 351.0 143 255 8.00 3.00 2  3  199.9 74.0 3890 1  \n",
       "5  Duster       20.07 225.0  95 170 8.40 2.76 1  3  194.1 71.8 3365 0  \n",
       "6  Jenson Conv. 11.20 440.0 215 330 8.20 2.88 4  3  184.5 69.0 4215 1  \n",
       "7  Skyhawk      22.12 231.0 110 175 8.00 2.56 2  3  179.3 65.4 3020 1  \n",
       "8  Monza        21.47 262.0 110 200 8.50 2.56 2  3  179.3 65.4 3180 1  \n",
       "9  Scirocco     34.70  89.7  70  81 8.20 3.90 2  4  155.7 64.0 1905 0  \n",
       "10 Corolla SR-5 30.40  96.9  75  83 9.00 4.30 2  5  165.2 65.0 2320 0  \n",
       "11 Camaro       16.50 350.0 155 250 8.50 3.08 4  3  195.4 74.4 3885 1  \n",
       "12 Datsun B210  36.50  85.3  80  83 8.50 3.89 2  4  160.6 62.2 2009 0  \n",
       "13 Capri II     21.50 171.0 109 146 8.20 3.22 2  4  170.4 66.9 2655 0  \n",
       "14 Pacer        19.70 258.0 110 195 8.00 3.08 1  3  171.5 77.0 3375 1  \n",
       "15 Babcat       20.30 140.0  83 109 8.40 3.40 2  4  168.8 69.4 2700 0  \n",
       "16 Granada      17.80 302.0 129 220 8.00 3.00 2  3  199.9 74.0 3890 1  \n",
       "17 Eldorado     14.39 500.0 190 360 8.50 2.73 4  3  224.1 79.8 5290 1  \n",
       "18 Imperial     14.89 440.0 215 330 8.20 2.71 4  3  231.0 79.7 5185 1  \n",
       "19 Nova LN      17.80 350.0 155 250 8.50 3.08 4  3  196.7 72.2 3910 1  \n",
       "20 Valiant      16.41 318.0 145 255 8.50 2.45 2  3  197.6 71.0 3660 1  \n",
       "21 Starfire     23.54 231.0 110 175 8.00 2.56 2  3  179.3 65.4 3050 1  \n",
       "22 Cordoba      21.47 360.0 180 290 8.40 2.45 2  3  214.2 76.3 4250 1  \n",
       "23 Trans AM     16.59 400.0 185  NA 7.60 3.08 4  3  196.0 73.0 3850 1  \n",
       "24 Corolla E-5  31.90  96.9  75  83 9.00 4.30 2  5  165.2 61.8 2275 0  \n",
       "25 Astre        29.40 140.0  86  NA 8.00 2.92 2  4  176.4 65.4 2150 0  \n",
       "26 Mark IV      13.27 460.0 223 366 8.00 3.00 4  3  228.0 79.8 5430 1  \n",
       "27 Celica GT    23.90 133.6  96 120 8.40 3.91 2  5  171.5 63.4 2535 0  \n",
       "28 Charger SE   19.73 318.0 140 255 8.50 2.71 2  3  215.3 76.3 4370 1  \n",
       "29 Cougar       13.90 351.0 148 243 8.00 3.25 2  3  215.5 78.5 4540 1  \n",
       "30 Elite        13.27 351.0 148 243 8.00 3.26 2  3  216.1 78.5 4715 1  \n",
       "31 Matador      13.77 360.0 195 295 8.25 3.15 4  3  209.3 77.4 4215 1  \n",
       "32 Corvette     16.50 360.0 165 255 8.50 2.73 4  3  185.2 69.0 3660 1  "
      ]
     },
     "metadata": {},
     "output_type": "display_data"
    }
   ],
   "source": [
    "df"
   ]
  },
  {
   "cell_type": "markdown",
   "id": "beeee9ed-baf4-4ef7-a132-fb05d4acb115",
   "metadata": {
    "jp-MarkdownHeadingCollapsed": true
   },
   "source": [
    "## a)\n",
    "Ajustar un modelo de regresión lineal múltiple que relacione el rendimiento de la gasolina $y$, en millas por galón, la cilindrada del motor ($x_1$) y la cantidad de gargantas del carburador ($x_6$)"
   ]
  },
  {
   "cell_type": "code",
   "execution_count": 25,
   "id": "529c2415-08c1-4d3d-b9d3-d8e979dba162",
   "metadata": {},
   "outputs": [],
   "source": [
    "X = model.matrix(y ~ x1 + x6, data = df)\n",
    "y = df$y\n",
    "n = nrow(X)\n",
    "p = ncol(X)"
   ]
  },
  {
   "cell_type": "code",
   "execution_count": 26,
   "id": "9faa9d3c-b9b0-40f9-97ca-3407daf2f12e",
   "metadata": {
    "scrolled": true
   },
   "outputs": [
    {
     "data": {
      "text/html": [
       "<table class=\"dataframe\">\n",
       "<caption>A matrix: 3 × 1 of type dbl</caption>\n",
       "<tbody>\n",
       "\t<tr><th scope=row>(Intercept)</th><td>32.88455083</td></tr>\n",
       "\t<tr><th scope=row>x1</th><td>-0.05314767</td></tr>\n",
       "\t<tr><th scope=row>x6</th><td> 0.95922305</td></tr>\n",
       "</tbody>\n",
       "</table>\n"
      ],
      "text/latex": [
       "A matrix: 3 × 1 of type dbl\n",
       "\\begin{tabular}{r|l}\n",
       "\t(Intercept) & 32.88455083\\\\\n",
       "\tx1 & -0.05314767\\\\\n",
       "\tx6 &  0.95922305\\\\\n",
       "\\end{tabular}\n"
      ],
      "text/markdown": [
       "\n",
       "A matrix: 3 × 1 of type dbl\n",
       "\n",
       "| (Intercept) | 32.88455083 |\n",
       "| x1 | -0.05314767 |\n",
       "| x6 |  0.95922305 |\n",
       "\n"
      ],
      "text/plain": [
       "            [,1]       \n",
       "(Intercept) 32.88455083\n",
       "x1          -0.05314767\n",
       "x6           0.95922305"
      ]
     },
     "metadata": {},
     "output_type": "display_data"
    }
   ],
   "source": [
    "beta_hat = solve(t(X) %*% X) %*% t(X) %*% y\n",
    "beta_hat"
   ]
  },
  {
   "cell_type": "code",
   "execution_count": 27,
   "id": "306ff02c-3b84-46ac-82ac-e46a39e451aa",
   "metadata": {},
   "outputs": [],
   "source": [
    "y_hat = X %*% beta_hat"
   ]
  },
  {
   "cell_type": "code",
   "execution_count": 28,
   "id": "2dd6b195-44c4-4377-bace-a6a7ddc70114",
   "metadata": {},
   "outputs": [],
   "source": [
    "SCT = as.numeric(t(y) %*% y - sum(y)**2 / n)\n",
    "SCE = as.numeric(t(beta_hat) %*% t(X) %*% y - sum(y)**2 / n)\n",
    "SSE = SCT - SCE\n",
    "varest = SSE / (n-p)\n",
    "cov_beta = varest * solve(t(X) %*% X)\n",
    "se_beta = sqrt(diag(cov_beta))"
   ]
  },
  {
   "cell_type": "markdown",
   "id": "bd25e078-404c-4ff3-b437-99a4dae040c9",
   "metadata": {},
   "source": [
    "---"
   ]
  },
  {
   "cell_type": "code",
   "execution_count": 29,
   "id": "3e4762d7-14d0-453a-8815-ffec11405294",
   "metadata": {
    "ExecuteTime": {
     "end_time": "2025-09-01T18:04:05.471880Z",
     "start_time": "2025-09-01T18:04:05.409590Z"
    }
   },
   "outputs": [],
   "source": [
    "full_model = lm(formula=y ~ x1 + x6, data=df)"
   ]
  },
  {
   "cell_type": "code",
   "execution_count": 30,
   "id": "5a6be202-ee0d-48eb-b17f-cbcf98a670ab",
   "metadata": {
    "ExecuteTime": {
     "end_time": "2025-08-28T16:38:16.895128Z",
     "start_time": "2025-08-28T16:38:16.853549Z"
    }
   },
   "outputs": [
    {
     "data": {
      "text/plain": [
       "\n",
       "Call:\n",
       "lm(formula = y ~ x1 + x6, data = df)\n",
       "\n",
       "Residuals:\n",
       "    Min      1Q  Median      3Q     Max \n",
       "-7.0623 -1.6687 -0.3628  1.6221  6.2305 \n",
       "\n",
       "Coefficients:\n",
       "             Estimate Std. Error t value Pr(>|t|)    \n",
       "(Intercept) 32.884551   1.535408  21.417  < 2e-16 ***\n",
       "x1          -0.053148   0.006137  -8.660 1.55e-09 ***\n",
       "x6           0.959223   0.670277   1.431    0.163    \n",
       "---\n",
       "Signif. codes:  0 '***' 0.001 '**' 0.01 '*' 0.05 '.' 0.1 ' ' 1\n",
       "\n",
       "Residual standard error: 3.013 on 29 degrees of freedom\n",
       "Multiple R-squared:  0.7873,\tAdjusted R-squared:  0.7726 \n",
       "F-statistic: 53.67 on 2 and 29 DF,  p-value: 1.79e-10\n"
      ]
     },
     "metadata": {},
     "output_type": "display_data"
    }
   ],
   "source": [
    "summary(full_model)"
   ]
  },
  {
   "cell_type": "markdown",
   "id": "d12baf06-c253-4a8a-900f-60eb09160f66",
   "metadata": {},
   "source": [
    "## b)\n",
    "Formar la tabla de análisis de varianza y probar la significancia de la regresión."
   ]
  },
  {
   "cell_type": "code",
   "execution_count": 31,
   "id": "8c076842-8656-443e-bc95-a4ec4ec601de",
   "metadata": {},
   "outputs": [],
   "source": [
    "GLT = n - 1\n",
    "GLRes = n - p\n",
    "GLR = p - 1\n",
    "CMR = SCE/GLR\n",
    "CMRes = SSE/GLRes\n",
    "F_stat = CMR/CMRes\n",
    "p_value_F <- pf(F_stat, GLR, GLRes, lower.tail = FALSE)"
   ]
  },
  {
   "cell_type": "code",
   "execution_count": 32,
   "id": "e1b89dab-8237-4124-b7ff-374233e4813b",
   "metadata": {},
   "outputs": [
    {
     "data": {
      "text/html": [
       "53.6688231436714"
      ],
      "text/latex": [
       "53.6688231436714"
      ],
      "text/markdown": [
       "53.6688231436714"
      ],
      "text/plain": [
       "[1] 53.66882"
      ]
     },
     "metadata": {},
     "output_type": "display_data"
    }
   ],
   "source": [
    "F_stat"
   ]
  },
  {
   "cell_type": "code",
   "execution_count": 33,
   "id": "741f6754-4578-4fc7-abb7-3e76d54abc37",
   "metadata": {},
   "outputs": [
    {
     "data": {
      "text/html": [
       "1.78995446745727e-10"
      ],
      "text/latex": [
       "1.78995446745727e-10"
      ],
      "text/markdown": [
       "1.78995446745727e-10"
      ],
      "text/plain": [
       "[1] 1.789954e-10"
      ]
     },
     "metadata": {},
     "output_type": "display_data"
    }
   ],
   "source": [
    "p_value_F"
   ]
  },
  {
   "cell_type": "code",
   "execution_count": 34,
   "id": "90bdb9e6-25c8-4722-9369-4b75ea99adc4",
   "metadata": {
    "scrolled": true
   },
   "outputs": [
    {
     "name": "stdout",
     "output_type": "stream",
     "text": [
      "[1] \"ANOVA (manual)\"\n",
      "      Source Df     SumSq     MeanSq        F       Pr..F.\n",
      "1 Regression  2  974.3095 487.154770 53.66882 1.789954e-10\n",
      "2   Residual 29  263.2345   9.077053       NA           NA\n",
      "3      Total 31 1237.5441         NA       NA           NA\n"
     ]
    }
   ],
   "source": [
    "anova_manual <- data.frame(\n",
    "  Source = c(\"Regression\", \"Residual\", \"Total\"),\n",
    "  Df = c(GLR, GLRes, GLR + GLRes),\n",
    "  SumSq = c(SCE, SSE, SCT),\n",
    "  MeanSq = c(CMR, CMRes, NA),\n",
    "  F = c(F_stat, NA, NA),\n",
    "  \"Pr(>F)\" = c(p_value_F, NA, NA)\n",
    ")\n",
    "print(\"ANOVA (manual)\")\n",
    "print(anova_manual)"
   ]
  },
  {
   "cell_type": "markdown",
   "id": "839e6c53-e11b-40f6-9344-ff2b67a25278",
   "metadata": {},
   "source": [
    "---"
   ]
  },
  {
   "cell_type": "code",
   "execution_count": 35,
   "id": "e6781cd6-ff96-4c6a-8a7b-9089deb41dff",
   "metadata": {},
   "outputs": [
    {
     "data": {
      "text/html": [
       "<table class=\"dataframe\">\n",
       "<caption>A anova: 3 × 5</caption>\n",
       "<thead>\n",
       "\t<tr><th></th><th scope=col>Df</th><th scope=col>Sum Sq</th><th scope=col>Mean Sq</th><th scope=col>F value</th><th scope=col>Pr(&gt;F)</th></tr>\n",
       "\t<tr><th></th><th scope=col>&lt;int&gt;</th><th scope=col>&lt;dbl&gt;</th><th scope=col>&lt;dbl&gt;</th><th scope=col>&lt;dbl&gt;</th><th scope=col>&lt;dbl&gt;</th></tr>\n",
       "</thead>\n",
       "<tbody>\n",
       "\t<tr><th scope=row>x1</th><td> 1</td><td>955.71971</td><td>955.719710</td><td>105.289643</td><td>3.666052e-11</td></tr>\n",
       "\t<tr><th scope=row>x6</th><td> 1</td><td> 18.58983</td><td> 18.589831</td><td>  2.048003</td><td>1.630948e-01</td></tr>\n",
       "\t<tr><th scope=row>Residuals</th><td>29</td><td>263.23455</td><td>  9.077053</td><td>        NA</td><td>          NA</td></tr>\n",
       "</tbody>\n",
       "</table>\n"
      ],
      "text/latex": [
       "A anova: 3 × 5\n",
       "\\begin{tabular}{r|lllll}\n",
       "  & Df & Sum Sq & Mean Sq & F value & Pr(>F)\\\\\n",
       "  & <int> & <dbl> & <dbl> & <dbl> & <dbl>\\\\\n",
       "\\hline\n",
       "\tx1 &  1 & 955.71971 & 955.719710 & 105.289643 & 3.666052e-11\\\\\n",
       "\tx6 &  1 &  18.58983 &  18.589831 &   2.048003 & 1.630948e-01\\\\\n",
       "\tResiduals & 29 & 263.23455 &   9.077053 &         NA &           NA\\\\\n",
       "\\end{tabular}\n"
      ],
      "text/markdown": [
       "\n",
       "A anova: 3 × 5\n",
       "\n",
       "| <!--/--> | Df &lt;int&gt; | Sum Sq &lt;dbl&gt; | Mean Sq &lt;dbl&gt; | F value &lt;dbl&gt; | Pr(&gt;F) &lt;dbl&gt; |\n",
       "|---|---|---|---|---|---|\n",
       "| x1 |  1 | 955.71971 | 955.719710 | 105.289643 | 3.666052e-11 |\n",
       "| x6 |  1 |  18.58983 |  18.589831 |   2.048003 | 1.630948e-01 |\n",
       "| Residuals | 29 | 263.23455 |   9.077053 |         NA |           NA |\n",
       "\n"
      ],
      "text/plain": [
       "          Df Sum Sq    Mean Sq    F value    Pr(>F)      \n",
       "x1         1 955.71971 955.719710 105.289643 3.666052e-11\n",
       "x6         1  18.58983  18.589831   2.048003 1.630948e-01\n",
       "Residuals 29 263.23455   9.077053         NA           NA"
      ]
     },
     "metadata": {},
     "output_type": "display_data"
    }
   ],
   "source": [
    "anov = anova(full_model)\n",
    "anov"
   ]
  },
  {
   "cell_type": "markdown",
   "id": "111afc5d-29bd-45d3-9f4e-37c308534d76",
   "metadata": {},
   "source": [
    "## c)\n",
    "Calcular $R^2$ y $R^2_{adj}$ para este modelo. Compararlas con las $R^2$ y $R^2_{adj}$ ajustado para el modelo de regresión lineal simple, que relaciona las millas con la cilindrada."
   ]
  },
  {
   "cell_type": "code",
   "execution_count": 37,
   "id": "1c06c76b-3ca5-4114-9591-9c61ff2312e8",
   "metadata": {},
   "outputs": [
    {
     "data": {
      "text/html": [
       "0.787292792638651"
      ],
      "text/latex": [
       "0.787292792638651"
      ],
      "text/markdown": [
       "0.787292792638651"
      ],
      "text/plain": [
       "[1] 0.7872928"
      ]
     },
     "metadata": {},
     "output_type": "display_data"
    },
    {
     "data": {
      "text/html": [
       "0.772623330062007"
      ],
      "text/latex": [
       "0.772623330062007"
      ],
      "text/markdown": [
       "0.772623330062007"
      ],
      "text/plain": [
       "[1] 0.7726233"
      ]
     },
     "metadata": {},
     "output_type": "display_data"
    }
   ],
   "source": [
    "R2 = 1 - (SSE/SCT)\n",
    "R2_adj = 1 - ((SSE / (n - p)) / (SCT / (n - 1)))\n",
    "R2\n",
    "R2_adj"
   ]
  },
  {
   "cell_type": "markdown",
   "id": "8e17fe4a-4c8a-40e2-a009-5b399f5013e7",
   "metadata": {},
   "source": [
    "### Regresión simple"
   ]
  },
  {
   "cell_type": "code",
   "execution_count": 38,
   "id": "ec2925ea-391d-4fd1-91ec-2375c80202b2",
   "metadata": {},
   "outputs": [
    {
     "data": {
      "text/html": [
       "0.772271242320439"
      ],
      "text/latex": [
       "0.772271242320439"
      ],
      "text/markdown": [
       "0.772271242320439"
      ],
      "text/plain": [
       "[1] 0.7722712"
      ]
     },
     "metadata": {},
     "output_type": "display_data"
    },
    {
     "data": {
      "text/html": [
       "0.76468028373112"
      ],
      "text/latex": [
       "0.76468028373112"
      ],
      "text/markdown": [
       "0.76468028373112"
      ],
      "text/plain": [
       "[1] 0.7646803"
      ]
     },
     "metadata": {},
     "output_type": "display_data"
    }
   ],
   "source": [
    "X_simple = model.matrix(y ~ x1, data=df)\n",
    "y_simple = df$y\n",
    "n_s = nrow(X_simple)\n",
    "p_s = ncol(X_simple)\n",
    "\n",
    "beta_hat_simple = solve(t(X_simple) %*% X_simple) %*% t(X_simple) %*% y_simple\n",
    "y_hat_simple = X_simple %*% beta_hat_simple\n",
    "\n",
    "SCT_simple = as.numeric(t(y_simple) %*% y_simple - sum(y_simple)**2 / n_s)\n",
    "SCE_simple = as.numeric(t(beta_hat_simple) %*% t(X_simple) %*% y_simple - sum(y)**2 / n_s)\n",
    "SSE_simple = SCT_simple - SCE_simple\n",
    "\n",
    "varest = as.numeric(SSE_simple / n_s - p_s)\n",
    "\n",
    "R2_simple = 1 - (SSE_simple/SCT_simple)\n",
    "R2_adj_simple = 1 - ((SSE_simple / (n_s - p_s)) / (SCT_simple / (n_s - 1)))\n",
    "\n",
    "R2_simple\n",
    "R2_adj_simple"
   ]
  },
  {
   "cell_type": "markdown",
   "id": "0f61d311-c9f7-471b-a59c-5c84f748b342",
   "metadata": {},
   "source": [
    "## d)\n",
    "Determinar un intervalo de confianza para $\\beta_1$"
   ]
  },
  {
   "cell_type": "code",
   "execution_count": 42,
   "id": "e58913a7-8a5f-46f0-b3a5-6067b7a9652f",
   "metadata": {},
   "outputs": [],
   "source": [
    "tt = qt(p=0.95+0.05/2, df=n-p, lower.tail=TRUE)\n",
    "beta1_hat = beta_hat[2, 1]\n",
    "se_beta1 = se_beta[2]\n",
    "ic_beta1_izq = beta1_hat - tt * se_beta1\n",
    "ic_beta1_der = beta1_hat + tt * se_beta1"
   ]
  },
  {
   "cell_type": "code",
   "execution_count": 43,
   "id": "ffceb4ef-7443-41b4-8f2a-703807fb2f13",
   "metadata": {},
   "outputs": [
    {
     "name": "stdout",
     "output_type": "stream",
     "text": [
      "Intervalo de confianza 95% para β1:\n",
      "Límite inferior: -0.0657 \n",
      "Estimación: -0.0531 \n",
      "Límite superior: -0.0406 \n",
      "Longitud: 0.0251 \n"
     ]
    }
   ],
   "source": [
    "cat(\"Intervalo de confianza 95% para β1:\\n\")\n",
    "cat(\"Límite inferior:\", round(ic_beta1_izq, 4), \"\\n\")\n",
    "cat(\"Estimación:\", round(beta1_hat, 4), \"\\n\")\n",
    "cat(\"Límite superior:\", round(ic_beta1_der, 4), \"\\n\")\n",
    "cat(\"Longitud:\", round(ic_beta1_der - ic_beta1_izq, 4), \"\\n\")"
   ]
  },
  {
   "cell_type": "code",
   "execution_count": 44,
   "id": "dc3780f9-3c63-47b8-9493-0496a37e5343",
   "metadata": {},
   "outputs": [
    {
     "data": {
      "text/html": [
       "<style>\n",
       ".dl-inline {width: auto; margin:0; padding: 0}\n",
       ".dl-inline>dt, .dl-inline>dd {float: none; width: auto; display: inline-block}\n",
       ".dl-inline>dt::after {content: \":\\0020\"; padding-right: .5ex}\n",
       ".dl-inline>dt:not(:first-of-type) {padding-left: .5ex}\n",
       "</style><dl class=dl-inline><dt>2.5 %</dt><dd>-0.065698921312843</dd><dt>97.5 %</dt><dd>-0.040596414968611</dd></dl>\n"
      ],
      "text/latex": [
       "\\begin{description*}\n",
       "\\item[2.5 \\textbackslash{}\\%] -0.065698921312843\n",
       "\\item[97.5 \\textbackslash{}\\%] -0.040596414968611\n",
       "\\end{description*}\n"
      ],
      "text/markdown": [
       "2.5 %\n",
       ":   -0.06569892131284397.5 %\n",
       ":   -0.040596414968611\n",
       "\n"
      ],
      "text/plain": [
       "      2.5 %      97.5 % \n",
       "-0.06569892 -0.04059641 "
      ]
     },
     "metadata": {},
     "output_type": "display_data"
    }
   ],
   "source": [
    "confint(full_model, level = 0.95)[\"x1\", ]"
   ]
  },
  {
   "cell_type": "markdown",
   "id": "7fe5140b-1bb4-400c-b26b-d121f870a462",
   "metadata": {},
   "source": [
    "## e)\n",
    "Determinar un intervalo de confianza de 95% para el rendimiento promedio de la gasolina, cuando $x_1 = 225 pulg^3$ y $x_6 = 2$ gargantas.\n",
    "\n"
   ]
  },
  {
   "cell_type": "code",
   "execution_count": 50,
   "id": "c79a1cae-185f-439c-880c-f09e8e96e349",
   "metadata": {},
   "outputs": [],
   "source": [
    "X0 = matrix(c(1, 255, 2))\n",
    "y0 = t(X0) %*% beta_hat"
   ]
  },
  {
   "cell_type": "code",
   "execution_count": 51,
   "id": "eca8ce8d-9d34-4e43-acc1-a54ce07a6c5d",
   "metadata": {},
   "outputs": [],
   "source": [
    "var_y0 = varest * t(X0) %*% solve(t(X) %*% X) %*% X0\n",
    "se_y0 = sqrt(var_y0)"
   ]
  },
  {
   "cell_type": "code",
   "execution_count": 52,
   "id": "e537e171-0295-465c-856d-757b129305ac",
   "metadata": {},
   "outputs": [],
   "source": [
    "ic_y0_izq <- y0 - tt * se_y0\n",
    "ic_y0_der <- y0 + tt * se_y0"
   ]
  },
  {
   "cell_type": "code",
   "execution_count": 53,
   "id": "db96a365-a04d-492f-bae8-2ff8263bfdb4",
   "metadata": {},
   "outputs": [
    {
     "name": "stdout",
     "output_type": "stream",
     "text": [
      "\n",
      "Intervalo de confianza 95% para la respuesta media:\n",
      "Límite inferior: 19.9907 \n",
      "Predicción: 21.2503 \n",
      "Límite superior: 22.51 \n",
      "Longitud: 2.5193 \n"
     ]
    }
   ],
   "source": [
    "cat(\"\\nIntervalo de confianza 95% para la respuesta media:\\n\")\n",
    "cat(\"Límite inferior:\", round(ic_y0_izq, 4), \"\\n\")\n",
    "cat(\"Predicción:\", round(y0, 4), \"\\n\")\n",
    "cat(\"Límite superior:\", round(ic_y0_der, 4), \"\\n\")\n",
    "cat(\"Longitud:\", round(ic_y0_der-ic_y0_izq, 4), \"\\n\")"
   ]
  },
  {
   "cell_type": "markdown",
   "id": "7645423f-5edb-428f-bf7e-1e618a31de0d",
   "metadata": {},
   "source": [
    "## f)\n",
    "Determinar un intervalo de predicción de 95% para una nueva observación de rendimiento de gasolina, cuando $x_1 = 225 pulg^3$ y $x_6=2$ gargantas."
   ]
  },
  {
   "cell_type": "code",
   "execution_count": 60,
   "id": "21103723-a916-48fc-9a62-1fa6d27c3ecf",
   "metadata": {},
   "outputs": [],
   "source": [
    "X0 <- matrix(c(1, 225, 2), nrow = 1)   # si el modelo tiene intercepto, x1 y x6\n",
    "\n",
    "# error estándar de predicción\n",
    "se_pred <- sqrt(varest) * sqrt(1 + as.numeric(X0 %*% XtX_inv %*% t(X0)))\n",
    "\n",
    "# valor t crítico\n",
    "alpha <- 0.05\n",
    "t_crit <- qt(1 - alpha/2, df = n - p)\n",
    "\n",
    "# predicción puntual\n",
    "y0 <- as.numeric(X0 %*% beta_hat)\n",
    "\n",
    "# intervalo de predicción\n",
    "ip_izq = y0 - t_crit * se_pred\n",
    "ip_der = y0 + t_crit * se_pred\n"
   ]
  },
  {
   "cell_type": "code",
   "execution_count": 61,
   "id": "cf2e4d54-a757-4ef9-a246-839d670dd108",
   "metadata": {},
   "outputs": [
    {
     "name": "stdout",
     "output_type": "stream",
     "text": [
      "\n",
      "Intervalo de predicción 95% para la respuesta media:\n",
      "Límite inferior: 16.5537 \n",
      "Predicción: 22.8448 \n",
      "Límite superior: 29.1358 \n",
      "Longitud: 12.5821 \n"
     ]
    }
   ],
   "source": [
    "cat(\"\\nIntervalo de predicción 95% para la respuesta media:\\n\")\n",
    "cat(\"Límite inferior:\", round(ip_izq, 4), \"\\n\")\n",
    "cat(\"Predicción:\", round(y0, 4), \"\\n\")\n",
    "cat(\"Límite superior:\", round(ip_der, 4), \"\\n\")\n",
    "cat(\"Longitud:\", round(ip_der-ip_izq, 4), \"\\n\")"
   ]
  },
  {
   "cell_type": "markdown",
   "id": "7599c789-dcf3-466d-a1ed-b30e93715783",
   "metadata": {},
   "source": [
    "## g)\n",
    "Considerar el modelo de regresión lineal simple, que relaciona las millas con la cilindrada. Construir un intervalo de confianza de 95% para el rendimiento promedio de la gasolina y un intervalo de predicción para el rendimiento, cuando $x_1 = 225 pulg^3$\n",
    " . Comparar las longitudes de estos intervalos con los intervalos obtenidos en los dos incisos anteriores. ¿Tiene ventajas agregar $x_6$ al modelo?"
   ]
  },
  {
   "cell_type": "code",
   "execution_count": null,
   "id": "06c2203a-30d9-47fb-95ad-6d513752b108",
   "metadata": {},
   "outputs": [],
   "source": [
    "x1 = "
   ]
  },
  {
   "cell_type": "markdown",
   "id": "7becb94a-255f-4e86-ab75-ce3b1d0ea08b",
   "metadata": {},
   "source": [
    "## h)\n",
    "Trazar una gráfica de probabilidad normal de los residuales. ¿Parece haber algún problema con la hipótesis de normalidad?"
   ]
  },
  {
   "cell_type": "code",
   "execution_count": 62,
   "id": "2daa0e63-9bd8-44b1-b02d-0886e7e9ac71",
   "metadata": {},
   "outputs": [
    {
     "data": {
      "image/png": "[encoded data removed]",
      "text/plain": [
       "Plot with title \"Normal Q-Q Plot\""
      ]
     },
     "metadata": {
      "image/png": {
       "height": 420,
       "width": 420
      }
     },
     "output_type": "display_data"
    }
   ],
   "source": [
    "residuales = resid(full_model)\n",
    "qqnorm(residuales)\n",
    "qqline(residuales)"
   ]
  },
  {
   "cell_type": "markdown",
   "id": "76f0f95d-a815-4254-b5b0-f977a508ff1a",
   "metadata": {},
   "source": [
    "## i)\n",
    "Trazar e interpretar una gráfica de los residuales en función de la respuesta predicha."
   ]
  },
  {
   "cell_type": "code",
   "execution_count": 63,
   "id": "67123223-cbee-4430-a0ff-9406483322aa",
   "metadata": {},
   "outputs": [
    {
     "data": {
      "image/png": "[encoded data removed]",
      "text/plain": [
       "Plot with title \"Modelo de Regresión\""
      ]
     },
     "metadata": {
      "image/png": {
       "height": 420,
       "width": 420
      }
     },
     "output_type": "display_data"
    }
   ],
   "source": [
    "plot(fitted(full_model), residuales,\n",
    "    xlab = \"Valores Estimados\",\n",
    "     ylab = \"Residuales\",\n",
    "     main = \"Modelo de Regresión\",\n",
    "     pch = 19, col = \"#4bb37b\", cex = 1.2)"
   ]
  },
  {
   "cell_type": "markdown",
   "id": "986bea3d-099b-4426-ae0b-de3f8c87c716",
   "metadata": {},
   "source": [
    "## j)\n",
    "Trazar las gráficas de los residuales en función de cada una de las variables regresoras. ¿Implican esas gráficas que se especificó en forma correcta el regresor?"
   ]
  },
  {
   "cell_type": "code",
   "execution_count": 64,
   "id": "369be220-6397-420b-9516-8e671661cc21",
   "metadata": {},
   "outputs": [
    {
     "data": {
      "image/png": "[encoded data removed]",
      "text/plain": [
       "plot without title"
      ]
     },
     "metadata": {
      "image/png": {
       "height": 420,
       "width": 420
      }
     },
     "output_type": "display_data"
    },
    {
     "data": {
      "image/png": "[encoded data removed]",
      "text/plain": [
       "plot without title"
      ]
     },
     "metadata": {
      "image/png": {
       "height": 420,
       "width": 420
      }
     },
     "output_type": "display_data"
    }
   ],
   "source": [
    "plot(df$x1, residuales, xlab=\"x1\", ylab=\"Residuales\")\n",
    "abline(h=0, col=\"red\")\n",
    "\n",
    "plot(df$x6, residuales, xlab=\"x6\", ylab=\"Residuales\")\n",
    "abline(h=0, col=\"red\")\n"
   ]
  },
  {
   "cell_type": "code",
   "execution_count": null,
   "id": "b3a1c9d6-5b15-4a3c-a3e1-450b8f1a046e",
   "metadata": {},
   "outputs": [],
   "source": []
  }
 ],
 "metadata": {
  "kernelspec": {
   "display_name": "R",
   "language": "R",
   "name": "ir"
  },
  "language_info": {
   "codemirror_mode": "r",
   "file_extension": ".r",
   "mimetype": "text/x-r-source",
   "name": "R",
   "pygments_lexer": "r",
   "version": "4.4.2"
  }
 },
 "nbformat": 4,
 "nbformat_minor": 5
}
